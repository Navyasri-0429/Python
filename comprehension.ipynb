{
 "cells": [
  {
   "cell_type": "markdown",
   "id": "6c6c2b5e-67b2-4c2c-8540-3711ebce9908",
   "metadata": {},
   "source": [
    "#### list comprehension"
   ]
  },
  {
   "cell_type": "code",
   "execution_count": null,
   "id": "fbda24ae-25be-4729-839a-0b9581972ca2",
   "metadata": {},
   "outputs": [],
   "source": [
    "# [expression for item in iterable]"
   ]
  },
  {
   "cell_type": "code",
   "execution_count": 4,
   "id": "59f51c86-e097-4a91-8ec3-1ad79d7802b1",
   "metadata": {},
   "outputs": [
    {
     "name": "stdout",
     "output_type": "stream",
     "text": [
      "[0, 1, 4, 9, 16, 25, 36, 49, 64, 81]\n"
     ]
    }
   ],
   "source": [
    "a = []\n",
    "for i in range(10):\n",
    "    a.append(i**2)\n",
    "print(a)"
   ]
  },
  {
   "cell_type": "code",
   "execution_count": 6,
   "id": "e60e2faa-4e61-436f-b7da-32b43e8dcb76",
   "metadata": {},
   "outputs": [
    {
     "name": "stdout",
     "output_type": "stream",
     "text": [
      "[0, 1, 4, 9, 16, 25, 36, 49, 64, 81]\n"
     ]
    }
   ],
   "source": [
    "a = [i**2 for i in range (10)]\n",
    "print(a)"
   ]
  },
  {
   "cell_type": "code",
   "execution_count": 8,
   "id": "81f97fab-e84f-4689-a0df-68366d6cb822",
   "metadata": {},
   "outputs": [
    {
     "name": "stdout",
     "output_type": "stream",
     "text": [
      "{0: [0], 1: [1], 2: [4], 3: [9], 4: [16], 5: [25], 6: [36], 7: [49], 8: [64], 9: [81]}\n"
     ]
    }
   ],
   "source": [
    "squares  = {}\n",
    "for i in range(10):\n",
    "    squares[i] =[i**2]\n",
    "print(squares)"
   ]
  },
  {
   "cell_type": "code",
   "execution_count": 11,
   "id": "a0a4bba4-af5f-4ce0-ae15-c3c5f2e6b002",
   "metadata": {},
   "outputs": [
    {
     "name": "stdout",
     "output_type": "stream",
     "text": [
      "{0: 0, 1: 1, 2: 4, 3: 9, 4: 16, 5: 25, 6: 36, 7: 49, 8: 64, 9: 81}\n"
     ]
    }
   ],
   "source": [
    "squares ={i :i**2 for i in range (10)}\n",
    "print(squares)"
   ]
  },
  {
   "cell_type": "markdown",
   "id": "c5d814ba-a89d-447b-8407-fb28d9fe5183",
   "metadata": {},
   "source": [
    "## "
   ]
  },
  {
   "cell_type": "code",
   "execution_count": null,
   "id": "02a3bf17-b8da-4241-b90f-78080c4e529a",
   "metadata": {},
   "outputs": [],
   "source": []
  },
  {
   "cell_type": "code",
   "execution_count": null,
   "id": "78451bc8-0a89-4d1b-b5a3-b19c5f35d5ad",
   "metadata": {},
   "outputs": [],
   "source": [
    "x,y,z,n = int(input().strip())\n",
    "result = x,y,z,n'-'.split[[i,j,k] for i in range (x+1) for j in range (y+1) for k in range(z+1) if (i+j+k) !=n]\n",
    "print(result)"
   ]
  },
  {
   "cell_type": "code",
   "execution_count": 3,
   "id": "fa9ff64d-2a27-435c-b149-e4306cd96e44",
   "metadata": {},
   "outputs": [
    {
     "ename": "SyntaxError",
     "evalue": "invalid syntax (1550313066.py, line 3)",
     "output_type": "error",
     "traceback": [
      "\u001b[1;36m  Cell \u001b[1;32mIn[3], line 3\u001b[1;36m\u001b[0m\n\u001b[1;33m    for i in range (x+1)\u001b[0m\n\u001b[1;37m    ^\u001b[0m\n\u001b[1;31mSyntaxError\u001b[0m\u001b[1;31m:\u001b[0m invalid syntax\n"
     ]
    }
   ],
   "source": [
    "x,y,z,n = int(input().strip())\n",
    "result = x,y,z,n.split[[i,j,k] for i in range (x+1) for j in range (y+1) for k in range(z+1) if (i+j+k) !=n]\n",
    "print(result)"
   ]
  },
  {
   "cell_type": "code",
   "execution_count": null,
   "id": "a0c39c43-25bb-4a43-84bb-60b0f21f8831",
   "metadata": {},
   "outputs": [],
   "source": []
  }
 ],
 "metadata": {
  "kernelspec": {
   "display_name": "Python 3 (ipykernel)",
   "language": "python",
   "name": "python3"
  },
  "language_info": {
   "codemirror_mode": {
    "name": "ipython",
    "version": 3
   },
   "file_extension": ".py",
   "mimetype": "text/x-python",
   "name": "python",
   "nbconvert_exporter": "python",
   "pygments_lexer": "ipython3",
   "version": "3.12.4"
  }
 },
 "nbformat": 4,
 "nbformat_minor": 5
}
