{
 "cells": [
  {
   "cell_type": "code",
   "execution_count": 3,
   "id": "e93e4b61-c8dc-439a-ab8e-112a6c7d2a83",
   "metadata": {},
   "outputs": [
    {
     "name": "stdout",
     "output_type": "stream",
     "text": [
      "hello,navya sri\n"
     ]
    }
   ],
   "source": [
    "def greet(name): # name : parameter or argument\n",
    "    print(f\"hello,{name}\")\n",
    "greet('navya sri')\n"
   ]
  },
  {
   "cell_type": "code",
   "execution_count": 13,
   "id": "497c8287-2860-4a49-8e69-0cd545e31046",
   "metadata": {},
   "outputs": [
    {
     "data": {
      "text/plain": [
       "10"
      ]
     },
     "execution_count": 13,
     "metadata": {},
     "output_type": "execute_result"
    }
   ],
   "source": [
    "def add(a,b):\n",
    "    result = a+b\n",
    "    return result   \n",
    "add(5,5)\n"
   ]
  },
  {
   "cell_type": "code",
   "execution_count": 17,
   "id": "a82167bf-4831-448e-82f3-b9b5da65cd45",
   "metadata": {},
   "outputs": [
    {
     "name": "stdout",
     "output_type": "stream",
     "text": [
      "navya age,22\n"
     ]
    }
   ],
   "source": [
    "def person(age): # name : parameter or argument\n",
    "    print(f\"navya age,{age}\")\n",
    "person('22')"
   ]
  },
  {
   "cell_type": "code",
   "execution_count": 6,
   "id": "79e48d0f-7d07-46ae-b30d-1052975fac24",
   "metadata": {},
   "outputs": [
    {
     "name": "stdout",
     "output_type": "stream",
     "text": [
      "Total: 21\n",
      "average: 3.5\n"
     ]
    }
   ],
   "source": [
    "def calculate(numbers):\n",
    "    total = sum(numbers)\n",
    "    average = total/len(numbers)\n",
    "    return total, average\n",
    "data = [1,2,3,4,5,6]\n",
    "\n",
    "total_sum, avg = calculate(data)\n",
    "print('Total:',total_sum)\n",
    "print('average:',avg)"
   ]
  },
  {
   "cell_type": "code",
   "execution_count": 12,
   "id": "0f130502-ecdf-415b-90cd-8a626029b633",
   "metadata": {},
   "outputs": [
    {
     "name": "stdout",
     "output_type": "stream",
     "text": [
      "5.0\n",
      "cannot divide by zero\n"
     ]
    }
   ],
   "source": [
    "def divide(a,b):\n",
    "    if b == 0:\n",
    "        return \"cannot divide by zero\"\n",
    "    return a/b\n",
    "        \n",
    "result=divide(10,2)\n",
    "print(result)\n",
    "\n",
    "result=divide(5,0)\n",
    "print(result)"
   ]
  },
  {
   "cell_type": "code",
   "execution_count": 14,
   "id": "d0e6e661-bdb2-44a0-8b46-6743821b7c73",
   "metadata": {},
   "outputs": [
    {
     "name": "stdout",
     "output_type": "stream",
     "text": [
      "Area of rectangle with length:4, width:5:20\n"
     ]
    }
   ],
   "source": [
    "#Area of rectangle = length*width\n",
    "def calculate_rectangle_area(length,width):\n",
    "    area = length * width\n",
    "    return area\n",
    "length = 4 \n",
    "width = 5\n",
    "area = calculate_rectangle_area(length,width)\n",
    "print(f\"Area of rectangle with length:{length}, width:{width}:{area}\")"
   ]
  },
  {
   "cell_type": "code",
   "execution_count": 18,
   "id": "af45eb0c-ce4c-4d2c-b707-10c3543bcac3",
   "metadata": {},
   "outputs": [
    {
     "name": "stdin",
     "output_type": "stream",
     "text": [
      "enter the 1st number: 3\n",
      "enter the 2nd number: 5\n"
     ]
    },
    {
     "name": "stdout",
     "output_type": "stream",
     "text": [
      "Add= 8.0\n",
      "sub= -2.0\n",
      "multiplication= 15.0\n"
     ]
    }
   ],
   "source": [
    "def calculator(a,b):\n",
    "    print(\"Add=\",a+b)\n",
    "    print(\"sub=\", a-b)\n",
    "    print(\"multiplication=\", a*b)\n",
    "    \n",
    "a = float(input(\"enter the 1st number:\"))\n",
    "b = float(input(\"enter the 2nd number:\"))\n",
    "\n",
    "calculator(a,b)"
   ]
  },
  {
   "cell_type": "code",
   "execution_count": 19,
   "id": "cbad3740-c71b-4d2b-82a7-ba173f3ac3e1",
   "metadata": {},
   "outputs": [
    {
     "name": "stdin",
     "output_type": "stream",
     "text": [
      "enter the 1st number: 3\n",
      "enter the 2nd number: 4\n"
     ]
    },
    {
     "name": "stdout",
     "output_type": "stream",
     "text": [
      "Add= 7\n",
      "sub= -1\n",
      "multiplication= 12\n"
     ]
    }
   ],
   "source": [
    "# example 2\n",
    "def calculator(a,b):\n",
    "    print(\"Add=\",a+b)\n",
    "    print(\"sub=\", a-b)\n",
    "    print(\"multiplication=\", a*b)\n",
    "    \n",
    "a = int(input(\"enter the 1st number:\"))\n",
    "b = int(input(\"enter the 2nd number:\"))\n",
    "\n",
    "calculator(a,b)"
   ]
  },
  {
   "cell_type": "code",
   "execution_count": 20,
   "id": "2d34d75d-3395-4c13-9305-22ae9291e483",
   "metadata": {},
   "outputs": [
    {
     "name": "stdin",
     "output_type": "stream",
     "text": [
      "enter the 1st number: 1\n",
      "enter the 2nd number: 4\n"
     ]
    },
    {
     "name": "stdout",
     "output_type": "stream",
     "text": [
      "Add= (5+0j)\n",
      "sub= (-3+0j)\n",
      "multiplication= (4+0j)\n"
     ]
    }
   ],
   "source": [
    "def calculator(a,b):\n",
    "    print(\"Add=\",a+b)\n",
    "    print(\"sub=\", a-b)\n",
    "    print(\"multiplication=\", a*b)\n",
    "    \n",
    "a = complex(input(\"enter the 1st number:\"))\n",
    "b = complex(input(\"enter the 2nd number:\"))\n",
    "\n",
    "calculator(a,b)"
   ]
  },
  {
   "cell_type": "code",
   "execution_count": null,
   "id": "d885299c-a544-40de-8534-ce0ac3173bb4",
   "metadata": {},
   "outputs": [],
   "source": []
  },
  {
   "cell_type": "code",
   "execution_count": 6,
   "id": "fbc2c881-081a-4754-ad7c-70e7d30f20f6",
   "metadata": {},
   "outputs": [
    {
     "data": {
      "text/plain": [
       "(9, 27)"
      ]
     },
     "execution_count": 6,
     "metadata": {},
     "output_type": "execute_result"
    }
   ],
   "source": [
    "def square(x):\n",
    "    return x**2\n",
    "def cube(x):\n",
    "    return x**3\n",
    "def square_cube(x):\n",
    "    squared = square(x)\n",
    "    cubed = cube(x)\n",
    "    return squared,cubed\n",
    "square_cube(3)"
   ]
  },
  {
   "cell_type": "code",
   "execution_count": 4,
   "id": "2d969570-19f1-458e-b12c-b3e0b26e9620",
   "metadata": {},
   "outputs": [
    {
     "name": "stdout",
     "output_type": "stream",
     "text": [
      "factorail of 4: 1\n"
     ]
    }
   ],
   "source": [
    "#factorial\n",
    "def factorial(n):\n",
    "    result = 1\n",
    "    for i in range(1, n+1):\n",
    "        result *= i\n",
    "        return result \n",
    "result = factorial (4)\n",
    "print('factorail of 4:', result)\n"
   ]
  },
  {
   "cell_type": "code",
   "execution_count": 21,
   "id": "1560bfe4-ece1-478f-9b30-1ba8cf42f785",
   "metadata": {},
   "outputs": [
    {
     "name": "stdout",
     "output_type": "stream",
     "text": [
      "6\n"
     ]
    }
   ],
   "source": [
    "#pass by value(not used in python)\n",
    "def abc(x):\n",
    "    x = x+1\n",
    "num = 6\n",
    "abc(num)\n",
    "print(num)\n",
    "    "
   ]
  },
  {
   "cell_type": "code",
   "execution_count": 24,
   "id": "8c851193-d36d-4f7a-8486-1bc0eb4637e3",
   "metadata": {},
   "outputs": [
    {
     "name": "stdout",
     "output_type": "stream",
     "text": [
      "[1, 2, 3, 4]\n"
     ]
    }
   ],
   "source": [
    "# pass by reference\n",
    "def abc(list, element):\n",
    "    list.append(element)\n",
    "list = [1,2,3]\n",
    "abc(list,4)\n",
    "\n",
    "print(list)\n",
    "    "
   ]
  },
  {
   "cell_type": "code",
   "execution_count": 30,
   "id": "5b6a0404-e59d-45e7-9bdb-1a9c7d68d5ce",
   "metadata": {},
   "outputs": [
    {
     "name": "stdout",
     "output_type": "stream",
     "text": [
      "hello,navya\n",
      "hello,nani\n"
     ]
    }
   ],
   "source": [
    "# Default arguments : Parameters in a function that have predefined value\n",
    "def greet(name = 'navya'): # name : parameter or argument # name = 'navya' : default argument \n",
    "    print(f\"hello,{name}\")\n",
    "greet()\n",
    "greet('nani')"
   ]
  },
  {
   "cell_type": "code",
   "execution_count": 33,
   "id": "86585f48-ebf0-4599-a2e4-0ae4ccc4df51",
   "metadata": {},
   "outputs": [
    {
     "name": "stdout",
     "output_type": "stream",
     "text": [
      "(name : navya, age : 22\n"
     ]
    }
   ],
   "source": [
    "# Keyword argument : { key : value} its in the form of dictionary\n",
    "def person_info(name, age):\n",
    "    print(f\"(name : {name}, age : {age}\")\n",
    "person_info(name = \"navya\", age =\"22\")"
   ]
  },
  {
   "cell_type": "code",
   "execution_count": 34,
   "id": "fd5b30ad-e3fd-43ec-93fa-776a3c6a7da8",
   "metadata": {},
   "outputs": [
    {
     "data": {
      "text/plain": [
       "5"
      ]
     },
     "execution_count": 34,
     "metadata": {},
     "output_type": "execute_result"
    }
   ],
   "source": [
    "# Required Arguments\n",
    "def add(a,b):\n",
    "    return a+b\n",
    "add(2,3)"
   ]
  },
  {
   "cell_type": "code",
   "execution_count": 39,
   "id": "022f92c5-9732-41d0-b53a-93f926bce12b",
   "metadata": {},
   "outputs": [
    {
     "name": "stdout",
     "output_type": "stream",
     "text": [
      "5\n",
      "8\n"
     ]
    }
   ],
   "source": [
    "# Variable length arguments\n",
    "# *args ------> *args meaning it should take all values or arguments / it collect all positional arguments\n",
    "#**kwargs\n",
    "def sum(*args):\n",
    "    total = 0\n",
    "    for i in args:\n",
    "        total += 1\n",
    "    return total\n",
    "result = sum(1,2,3,4,5)\n",
    "result1 = sum(4,5,6,7,8,6,9,8)\n",
    "print(result)\n",
    "print(result1)"
   ]
  },
  {
   "cell_type": "code",
   "execution_count": 41,
   "id": "0cb79dfd-f19c-4e76-af43-a4b265479db6",
   "metadata": {},
   "outputs": [
    {
     "name": "stdout",
     "output_type": "stream",
     "text": [
      "name:navya\n",
      "age:22\n"
     ]
    }
   ],
   "source": [
    "#**kwargs\n",
    "def info(**kwargs):\n",
    "    for key, value in kwargs.items():\n",
    "        print(f\"{key}:{value}\")\n",
    "info(name='navya', age ='22')"
   ]
  },
  {
   "cell_type": "code",
   "execution_count": null,
   "id": "f466f013-7174-4f64-a25f-cb64be6ddf8e",
   "metadata": {},
   "outputs": [],
   "source": []
  }
 ],
 "metadata": {
  "kernelspec": {
   "display_name": "Python 3 (ipykernel)",
   "language": "python",
   "name": "python3"
  },
  "language_info": {
   "codemirror_mode": {
    "name": "ipython",
    "version": 3
   },
   "file_extension": ".py",
   "mimetype": "text/x-python",
   "name": "python",
   "nbconvert_exporter": "python",
   "pygments_lexer": "ipython3",
   "version": "3.12.4"
  }
 },
 "nbformat": 4,
 "nbformat_minor": 5
}
