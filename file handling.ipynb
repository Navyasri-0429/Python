{
 "cells": [
  {
   "cell_type": "code",
   "execution_count": 2,
   "id": "8f5c3e7c-b2bc-4699-b2d7-dd72fcf86f82",
   "metadata": {},
   "outputs": [
    {
     "name": "stdout",
     "output_type": "stream",
     "text": [
      "file opend succesfully\n"
     ]
    }
   ],
   "source": [
    "file = open('file.txt','r')\n",
    "\n",
    "if file:\n",
    "    print(\"file opend succesfully\")"
   ]
  },
  {
   "cell_type": "code",
   "execution_count": 3,
   "id": "c7099d04-36e9-4b06-8d80-356beb729064",
   "metadata": {},
   "outputs": [
    {
     "data": {
      "text/plain": [
       "'C:\\\\Users\\\\Hp\\\\OneDrive\\\\Documents\\\\codegnan\\\\jupyter'"
      ]
     },
     "execution_count": 3,
     "metadata": {},
     "output_type": "execute_result"
    }
   ],
   "source": [
    "import os\n",
    "os.getcwd()"
   ]
  },
  {
   "cell_type": "code",
   "execution_count": 7,
   "id": "11c7c3f5-2b34-4f6d-b786-5377612c7bb8",
   "metadata": {},
   "outputs": [],
   "source": [
    "with open('file.txt','w') as file:\n",
    "    file.write(\"hey navya\")"
   ]
  },
  {
   "cell_type": "code",
   "execution_count": 5,
   "id": "f78c7cc0-3f97-4cf5-8ccb-6cba430d25db",
   "metadata": {},
   "outputs": [
    {
     "name": "stdout",
     "output_type": "stream",
     "text": [
      "hey navya\n"
     ]
    }
   ],
   "source": [
    "with open('file.txt','r') as f:\n",
    "    content = f.read()\n",
    "    print(content)\n",
    "    "
   ]
  },
  {
   "cell_type": "code",
   "execution_count": 6,
   "id": "886d1a5e-06ad-4591-a6dd-f873f2c30bbd",
   "metadata": {},
   "outputs": [],
   "source": [
    "file.close()"
   ]
  },
  {
   "cell_type": "code",
   "execution_count": 36,
   "id": "416ca276-da51-44e8-b308-8d48d31ecb96",
   "metadata": {},
   "outputs": [
    {
     "ename": "SyntaxError",
     "evalue": "unterminated string literal (detected at line 1) (2737339735.py, line 1)",
     "output_type": "error",
     "traceback": [
      "\u001b[1;36m  Cell \u001b[1;32mIn[36], line 1\u001b[1;36m\u001b[0m\n\u001b[1;33m    file = open(r',\"C:\\Users\\Hp\\OneDrive\\Documents\\file.txt\")\u001b[0m\n\u001b[1;37m                ^\u001b[0m\n\u001b[1;31mSyntaxError\u001b[0m\u001b[1;31m:\u001b[0m unterminated string literal (detected at line 1)\n"
     ]
    }
   ],
   "source": [
    "file = open(r',\n",
    "            \n",
    "if file:\n",
    "    print(\"opened\")"
   ]
  },
  {
   "cell_type": "code",
   "execution_count": null,
   "id": "dc139336-4d4c-49ce-ab46-a9c957170b25",
   "metadata": {},
   "outputs": [],
   "source": [
    "file = close()\n"
   ]
  },
  {
   "cell_type": "code",
   "execution_count": 13,
   "id": "74be6cad-fb96-474d-bca6-935a46ca4cd1",
   "metadata": {},
   "outputs": [],
   "source": [
    "file = open('file.txt','w')\n",
    "file.write(\" Python is popular language\")\n",
    "file.close()"
   ]
  },
  {
   "cell_type": "code",
   "execution_count": 14,
   "id": "49021f97-ddb5-4a91-a00d-41ac69fe4660",
   "metadata": {},
   "outputs": [
    {
     "name": "stdout",
     "output_type": "stream",
     "text": [
      " Python is popular language\n"
     ]
    }
   ],
   "source": [
    "file = open('file.txt','r')\n",
    "content = file.read()\n",
    "print(content)"
   ]
  },
  {
   "cell_type": "code",
   "execution_count": 21,
   "id": "9bad7609-9ed1-4d15-bf01-62e53869df02",
   "metadata": {},
   "outputs": [],
   "source": [
    "file = open('file.txt','a')\n",
    "file.write(\".python is simple \")\n",
    "file.close()"
   ]
  },
  {
   "cell_type": "code",
   "execution_count": 25,
   "id": "e5d423cb-3a1f-474c-b5a5-f96c3c49468b",
   "metadata": {},
   "outputs": [
    {
     "name": "stdout",
     "output_type": "stream",
     "text": [
      "<class 'str'>\n",
      " Python is\n"
     ]
    }
   ],
   "source": [
    "file = open('file.txt','r')\n",
    "content = file.read(10)\n",
    "print(type(content))\n",
    "print(content)\n",
    "file.close()"
   ]
  },
  {
   "cell_type": "code",
   "execution_count": 27,
   "id": "958afc0d-efe4-4034-9532-ffa713e95c25",
   "metadata": {},
   "outputs": [
    {
     "name": "stdout",
     "output_type": "stream",
     "text": [
      " Python is popular languagepython is simple language python is simple language.\n",
      "\n",
      "python is simple language.\n",
      "\n",
      "python is simple \n"
     ]
    }
   ],
   "source": [
    "file = open('file.txt','r')\n",
    "content = file.readline()\n",
    "content2 = file.readline()\n",
    "content3 = file.readline()\n",
    "print(content)\n",
    "print(content2)\n",
    "print(content3)"
   ]
  },
  {
   "cell_type": "code",
   "execution_count": 30,
   "id": "b009de42-edce-49dd-b561-84144024aacd",
   "metadata": {},
   "outputs": [
    {
     "name": "stdout",
     "output_type": "stream",
     "text": [
      "[' Python is popular languagepython is simple language python is simple language.\\n', 'python is simple language.\\n', 'python is simple ']\n"
     ]
    }
   ],
   "source": [
    "file = open('file.txt','r')\n",
    "content = file.readlines()\n",
    "print(content)"
   ]
  },
  {
   "cell_type": "code",
   "execution_count": null,
   "id": "40e1262b-71d2-4125-b44f-c633d504977f",
   "metadata": {},
   "outputs": [],
   "source": [
    "file.close()"
   ]
  },
  {
   "cell_type": "code",
   "execution_count": 32,
   "id": "3f855324-7c06-48dc-a6b2-84d4416076cf",
   "metadata": {},
   "outputs": [
    {
     "name": "stdout",
     "output_type": "stream",
     "text": [
      "example_file.txt has been created\n"
     ]
    }
   ],
   "source": [
    "file_name = \"example_file.txt\"\n",
    "\n",
    "with open(file_name,'w') as file:\n",
    "    file.write(\"this is new file\")\n",
    "print(f\"{file_name} has been created\")\n",
    "file.close()"
   ]
  },
  {
   "cell_type": "code",
   "execution_count": null,
   "id": "e113822d-eaf0-44da-ab1f-7d7106603800",
   "metadata": {},
   "outputs": [],
   "source": []
  }
 ],
 "metadata": {
  "kernelspec": {
   "display_name": "Python 3 (ipykernel)",
   "language": "python",
   "name": "python3"
  },
  "language_info": {
   "codemirror_mode": {
    "name": "ipython",
    "version": 3
   },
   "file_extension": ".py",
   "mimetype": "text/x-python",
   "name": "python",
   "nbconvert_exporter": "python",
   "pygments_lexer": "ipython3",
   "version": "3.12.4"
  }
 },
 "nbformat": 4,
 "nbformat_minor": 5
}
