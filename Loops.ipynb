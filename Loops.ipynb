{
 "cells": [
  {
   "cell_type": "markdown",
   "id": "3ea9b42f-86ff-40e9-8cc6-f67aefc74f04",
   "metadata": {},
   "source": [
    "## for loop"
   ]
  },
  {
   "cell_type": "code",
   "execution_count": 2,
   "id": "4a50f628-7409-422d-982d-16b758a72c99",
   "metadata": {},
   "outputs": [
    {
     "name": "stdout",
     "output_type": "stream",
     "text": [
      "1\n",
      "2\n",
      "3\n",
      "4\n",
      "5\n",
      "6\n",
      "7\n",
      "8\n",
      "9\n",
      "10\n",
      "11\n",
      "12\n",
      "13\n",
      "14\n"
     ]
    }
   ],
   "source": [
    "for i in  range(1,15):\n",
    "    print(i)"
   ]
  },
  {
   "cell_type": "code",
   "execution_count": 13,
   "id": "954d34ee-a237-4237-a1fa-e0f157333e0c",
   "metadata": {},
   "outputs": [
    {
     "name": "stdout",
     "output_type": "stream",
     "text": [
      "-15\n",
      "-14\n",
      "-13\n",
      "-12\n",
      "-11\n",
      "-10\n",
      "-9\n",
      "-8\n",
      "-7\n",
      "-6\n",
      "-5\n",
      "-4\n",
      "-3\n",
      "-2\n"
     ]
    }
   ],
   "source": [
    "for i in  range(-15,-1):\n",
    "    print(i)"
   ]
  },
  {
   "cell_type": "code",
   "execution_count": 12,
   "id": "d55b3c34-82a8-4ac5-a6fa-d6fddec57467",
   "metadata": {},
   "outputs": [
    {
     "name": "stdout",
     "output_type": "stream",
     "text": [
      "1234567891011121314"
     ]
    }
   ],
   "source": [
    "for i in range (1,15):\n",
    "    print(i,end='')"
   ]
  },
  {
   "cell_type": "code",
   "execution_count": 8,
   "id": "d52d014d-db15-420c-857b-2f0ddc40c75a",
   "metadata": {},
   "outputs": [
    {
     "name": "stdout",
     "output_type": "stream",
     "text": [
      "apple\n",
      "banana\n",
      "range\n"
     ]
    }
   ],
   "source": [
    "fruits =['apple', 'banana', 'range']\n",
    "for i in fruits:\n",
    "    print(i)"
   ]
  },
  {
   "cell_type": "code",
   "execution_count": 7,
   "id": "6ae74d9f-ad57-4e8a-9e55-85917e42afb7",
   "metadata": {},
   "outputs": [
    {
     "name": "stdout",
     "output_type": "stream",
     "text": [
      "sum: 20\n"
     ]
    }
   ],
   "source": [
    "numbers =[2,4,6,8]\n",
    "result =0\n",
    "for i in numbers:\n",
    "    result +=i\n",
    "print(\"sum:\",result)"
   ]
  },
  {
   "cell_type": "code",
   "execution_count": 11,
   "id": "b4459a16-ba2f-4770-824d-87476ab2c5df",
   "metadata": {},
   "outputs": [
    {
     "name": "stdout",
     "output_type": "stream",
     "text": [
      "the sum of square: 120\n"
     ]
    }
   ],
   "source": [
    "numbers =[2,4,6,8]\n",
    "result =0\n",
    "for num in numbers:\n",
    "    result = result+num**2\n",
    "print('the sum of square:',result)"
   ]
  },
  {
   "cell_type": "code",
   "execution_count": 15,
   "id": "d263fa68-eeb2-4935-a094-03f8ec3c3d87",
   "metadata": {},
   "outputs": [
    {
     "name": "stdout",
     "output_type": "stream",
     "text": [
      "the factorial of 3 is 6\n"
     ]
    }
   ],
   "source": [
    "#factorial\n",
    "number = 3\n",
    "result = 1\n",
    "for i in range(1,number+1):\n",
    "    result*=i\n",
    "print(f\"the factorial of {number} is {result}\")"
   ]
  },
  {
   "cell_type": "markdown",
   "id": "e2d23e41-ca89-4710-b796-f6bad7f23073",
   "metadata": {},
   "source": [
    "# while loop"
   ]
  },
  {
   "cell_type": "code",
   "execution_count": 21,
   "id": "8944701f-bdfd-4401-871b-db9ed45251c7",
   "metadata": {},
   "outputs": [
    {
     "name": "stdout",
     "output_type": "stream",
     "text": [
      "1   6   11   "
     ]
    }
   ],
   "source": [
    "i = 1\n",
    "while i<15:\n",
    "    print(i,end='   ')\n",
    "    i += 5\n"
   ]
  },
  {
   "cell_type": "code",
   "execution_count": 28,
   "id": "06e32bb3-eed3-4c5a-9a54-a0d7151b3367",
   "metadata": {},
   "outputs": [
    {
     "name": "stdout",
     "output_type": "stream",
     "text": [
      "5 7 10 14 15 20 21 25 28 30 35 40 42 45 49 50 "
     ]
    }
   ],
   "source": [
    "i =1\n",
    "while i<51:\n",
    "    if i%5 ==0 or i%7 ==0:\n",
    "        print(i,end =' ')\n",
    "    i += 1"
   ]
  },
  {
   "cell_type": "code",
   "execution_count": 35,
   "id": "0fe6bf4c-6a46-4ee9-9471-308766186069",
   "metadata": {},
   "outputs": [
    {
     "name": "stdout",
     "output_type": "stream",
     "text": [
      "2  4  6  8  10  12  14  16  18  20  22  24  26  28  30  32  34  36  38  40  42  44  46  48  50  52  54  56  58  60  62  64  "
     ]
    }
   ],
   "source": [
    "i = 2\n",
    "while i<65:\n",
    "    if i%2 ==0:\n",
    "        print(i,end='  ')\n",
    "    i += 1\n",
    "    "
   ]
  },
  {
   "cell_type": "code",
   "execution_count": 36,
   "id": "09bb0c23-5678-448b-8c2e-fcf13b50e070",
   "metadata": {},
   "outputs": [
    {
     "name": "stdout",
     "output_type": "stream",
     "text": [
      "[4]\n",
      "[4, 16]\n",
      "[4, 16, 36]\n",
      "[4, 16, 36, 64]\n",
      "[4, 16, 36, 64, 100]\n"
     ]
    }
   ],
   "source": [
    "\n",
    "numbers =[2,4,6,8,10]\n",
    "squares =[]\n",
    "for i in numbers:\n",
    "    squares.append(i**2)\n",
    "    print(squares)"
   ]
  },
  {
   "cell_type": "markdown",
   "id": "b716d91e-220e-4a77-b843-f52723a1c5a7",
   "metadata": {},
   "source": [
    "# multiplication  table\n"
   ]
  },
  {
   "cell_type": "code",
   "execution_count": 42,
   "id": "5276df8b-e25c-4620-9b5c-4c1663d7b7e5",
   "metadata": {},
   "outputs": [
    {
     "name": "stdout",
     "output_type": "stream",
     "text": [
      " the multiplication table of: 4\n",
      "4 x 1 = 4\n",
      "4 x 2 = 8\n",
      "4 x 3 = 12\n",
      "4 x 4 = 16\n",
      "4 x 5 = 20\n",
      "4 x 6 = 24\n",
      "4 x 7 = 28\n",
      "4 x 8 = 32\n",
      "4 x 9 = 36\n",
      "4 x 10 = 40\n",
      "4 x 11 = 44\n",
      "4 x 12 = 48\n",
      "4 x 13 = 52\n",
      "4 x 14 = 56\n",
      "4 x 15 = 60\n",
      "4 x 16 = 64\n",
      "4 x 17 = 68\n",
      "4 x 18 = 72\n",
      "4 x 19 = 76\n",
      "4 x 20 = 80\n"
     ]
    }
   ],
   "source": [
    "num = 4\n",
    "result = 1\n",
    "\n",
    "print(\" the multiplication table of:\",num)\n",
    "while result <= 20:\n",
    "     a = num * result\n",
    "     print(num,'x', result,'=',a)\n",
    "     result += 1\n",
    "    "
   ]
  },
  {
   "cell_type": "markdown",
   "id": "45019c2f-7d7c-4688-8f32-c863a480d083",
   "metadata": {},
   "source": [
    "# secret number"
   ]
  },
  {
   "cell_type": "code",
   "execution_count": 43,
   "id": "573219be-8156-4f27-8b1f-9f91c769f7a4",
   "metadata": {},
   "outputs": [
    {
     "name": "stdin",
     "output_type": "stream",
     "text": [
      "enter the number: 4\n"
     ]
    },
    {
     "name": "stdout",
     "output_type": "stream",
     "text": [
      "try again\n"
     ]
    },
    {
     "name": "stdin",
     "output_type": "stream",
     "text": [
      "enter the number: 5\n"
     ]
    },
    {
     "name": "stdout",
     "output_type": "stream",
     "text": [
      "try again\n"
     ]
    },
    {
     "name": "stdin",
     "output_type": "stream",
     "text": [
      "enter the number: 2\n"
     ]
    },
    {
     "name": "stdout",
     "output_type": "stream",
     "text": [
      "congrats, your secret number\n"
     ]
    }
   ],
   "source": [
    "secret_number = 2\n",
    "guess = 0\n",
    "while guess != secret_number:\n",
    "    guess = int(input(\"enter the number:\"))\n",
    "    if guess != secret_number:\n",
    "        print(\"try again\")\n",
    "print(\"congrats, your secret number\")"
   ]
  },
  {
   "cell_type": "markdown",
   "id": "07bd2124-6214-4bbb-a71e-2ada2c094aab",
   "metadata": {},
   "source": [
    "  # break statement"
   ]
  },
  {
   "cell_type": "code",
   "execution_count": 50,
   "id": "9b4cce2a-dfe6-4b8d-a088-e1c65ecd0752",
   "metadata": {},
   "outputs": [
    {
     "name": "stdout",
     "output_type": "stream",
     "text": [
      "1\n",
      "2\n",
      "3\n",
      "4\n"
     ]
    }
   ],
   "source": [
    "for i in range (1,10):\n",
    "    if i == 5:\n",
    "        break\n",
    "    print(i)"
   ]
  },
  {
   "cell_type": "code",
   "execution_count": 52,
   "id": "02ae3623-51d1-47e6-9ce7-e0e0b940db93",
   "metadata": {},
   "outputs": [
    {
     "name": "stdout",
     "output_type": "stream",
     "text": [
      "1\n",
      "2\n",
      "3\n",
      "4\n",
      "5\n",
      "6\n",
      "7\n",
      "8\n",
      "9\n",
      "10\n",
      "11\n",
      "12\n",
      "13\n",
      "14\n"
     ]
    }
   ],
   "source": [
    "for i in range (1,15):\n",
    "    if i == 5:\n",
    "        pass\n",
    "    print(i)"
   ]
  },
  {
   "cell_type": "code",
   "execution_count": 4,
   "id": "c2ed3c41-48e0-4993-9571-3db67cfe6577",
   "metadata": {},
   "outputs": [
    {
     "name": "stdout",
     "output_type": "stream",
     "text": [
      "1\n",
      "2\n",
      "3\n",
      "4\n"
     ]
    }
   ],
   "source": [
    "count = 1\n",
    "while count <= 10:\n",
    "    if count == 5:\n",
    "        break\n",
    "    print(count)\n",
    "    count += 1"
   ]
  },
  {
   "cell_type": "markdown",
   "id": "16fd9f59-a3d7-4dca-98db-12e2a65e3b14",
   "metadata": {},
   "source": [
    "# continue statement"
   ]
  },
  {
   "cell_type": "code",
   "execution_count": 56,
   "id": "fe4b9c09-c4d9-4cad-bc9f-4e4258dea5ca",
   "metadata": {},
   "outputs": [
    {
     "name": "stdout",
     "output_type": "stream",
     "text": [
      "1 2 3 5 6 7 8 9 10 11 12 13 14 "
     ]
    }
   ],
   "source": [
    "for i in range(1,15):\n",
    "    if i == 4:\n",
    "        continue\n",
    "    print(i,end=' ')"
   ]
  },
  {
   "cell_type": "code",
   "execution_count": null,
   "id": "9a191e82-a9d5-46d5-b208-0f6de54c0866",
   "metadata": {},
   "outputs": [],
   "source": [
    "count = 1\n",
    "\n",
    "while count <= 10:\n",
    "    if count == 5:\n",
    "        count += 1\n",
    "        continue\n",
    "    print(count, end =' ')\n",
    "    count += 1"
   ]
  },
  {
   "cell_type": "markdown",
   "id": "2ac483cd-c7aa-4dbf-88fc-4a2ac5944c71",
   "metadata": {},
   "source": [
    " # pass statement"
   ]
  },
  {
   "cell_type": "code",
   "execution_count": 1,
   "id": "0d8c212b-8b8f-43c4-a1ba-794ed2369ff5",
   "metadata": {},
   "outputs": [
    {
     "name": "stdout",
     "output_type": "stream",
     "text": [
      "wrong\n"
     ]
    }
   ],
   "source": [
    "number = 10\n",
    "\n",
    "if number < 5:\n",
    "    pass\n",
    "else:\n",
    "    print('wrong')"
   ]
  },
  {
   "cell_type": "code",
   "execution_count": null,
   "id": "17f04913-93e6-4fb9-9e23-501a35afb6ba",
   "metadata": {},
   "outputs": [],
   "source": []
  }
 ],
 "metadata": {
  "kernelspec": {
   "display_name": "Python 3 (ipykernel)",
   "language": "python",
   "name": "python3"
  },
  "language_info": {
   "codemirror_mode": {
    "name": "ipython",
    "version": 3
   },
   "file_extension": ".py",
   "mimetype": "text/x-python",
   "name": "python",
   "nbconvert_exporter": "python",
   "pygments_lexer": "ipython3",
   "version": "3.12.4"
  }
 },
 "nbformat": 4,
 "nbformat_minor": 5
}
