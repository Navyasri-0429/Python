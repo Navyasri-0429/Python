{
 "cells": [
  {
   "cell_type": "markdown",
   "id": "916f2cbc-03d8-4039-9bdf-d4894335045d",
   "metadata": {},
   "source": [
    "# built in functions"
   ]
  },
  {
   "cell_type": "code",
   "execution_count": 3,
   "id": "b72fee02-407a-4f8f-99d0-d73859caf5dd",
   "metadata": {},
   "outputs": [
    {
     "name": "stdout",
     "output_type": "stream",
     "text": [
      "10\n",
      "10.04987562112089\n",
      "5\n"
     ]
    }
   ],
   "source": [
    "# Absolute functions\n",
    "#abs()\n",
    "integer = -10\n",
    "complex = -1+10j\n",
    "float = -5\n",
    "print(abs(integer))\n",
    "print(abs(complex))\n",
    "print(abs(float))"
   ]
  },
  {
   "cell_type": "code",
   "execution_count": 4,
   "id": "81e929c7-f8b8-4830-ae6f-db9aa5156499",
   "metadata": {},
   "outputs": [
    {
     "name": "stdout",
     "output_type": "stream",
     "text": [
      "0b10100\n"
     ]
    }
   ],
   "source": [
    "x = 20\n",
    "y = bin(x)\n",
    "print(y)\n",
    "\n"
   ]
  },
  {
   "cell_type": "code",
   "execution_count": 9,
   "id": "3210ca7e-1eb3-4566-9376-3a64e211b9f4",
   "metadata": {},
   "outputs": [
    {
     "data": {
      "text/plain": [
       "10"
      ]
     },
     "execution_count": 9,
     "metadata": {},
     "output_type": "execute_result"
    }
   ],
   "source": [
    " x= 9\n",
    "'x+1'\n",
    "# by using eval function we get addition of 9 = 10\n",
    "#eval\n",
    "x =9\n",
    "eval('x+1')\n"
   ]
  },
  {
   "cell_type": "code",
   "execution_count": 3,
   "id": "4013e96b-0466-4845-a888-092121ac957d",
   "metadata": {},
   "outputs": [
    {
     "name": "stdout",
     "output_type": "stream",
     "text": [
      "1\n",
      "2\n",
      "3\n",
      "4\n"
     ]
    }
   ],
   "source": [
    "a =[1,2,3,4]\n",
    "b =iter(a)\n",
    "print(next(b))\n",
    "print(next(b))\n",
    "print(next(b))\n",
    "print(next(b))\n",
    "\n",
    "\n"
   ]
  },
  {
   "cell_type": "code",
   "execution_count": 12,
   "id": "f13e77d5-0330-45ef-928d-b34b66c78efa",
   "metadata": {},
   "outputs": [
    {
     "name": "stdout",
     "output_type": "stream",
     "text": [
      "[2, 4, 6, 8]\n"
     ]
    }
   ],
   "source": [
    "# map()\n",
    "def calculate(n):\n",
    "    return n+n\n",
    "numbers = (1,2,3,4)\n",
    "result= map(calculate, numbers)\n",
    "#print(result)\n",
    "\n",
    "a = list(result)\n",
    "print(a)\n"
   ]
  },
  {
   "cell_type": "code",
   "execution_count": 16,
   "id": "819f1049-aade-4bd3-b7c9-5d9ed8bd2089",
   "metadata": {},
   "outputs": [
    {
     "name": "stdout",
     "output_type": "stream",
     "text": [
      "['__class__', '__delattr__', '__dir__', '__doc__', '__eq__', '__format__', '__ge__', '__getattribute__', '__getstate__', '__gt__', '__hash__', '__init__', '__init_subclass__', '__le__', '__lt__', '__ne__', '__new__', '__reduce__', '__reduce_ex__', '__repr__', '__setattr__', '__sizeof__', '__str__', '__subclasshook__']\n"
     ]
    }
   ],
   "source": [
    "python = object()\n",
    "print(dir(python))\n",
    "          "
   ]
  },
  {
   "cell_type": "code",
   "execution_count": null,
   "id": "d81b576f-39ec-4cc0-baba-7bf7bca7eb02",
   "metadata": {},
   "outputs": [],
   "source": [
    "# import math\n",
    "#dir(math)"
   ]
  },
  {
   "cell_type": "code",
   "execution_count": 19,
   "id": "268d5ec4-70b9-48f6-aa7d-abcdeca6c0a3",
   "metadata": {},
   "outputs": [],
   "source": [
    "# divmode---->this function is used to get remainder of 2 numbers\n",
    "divmod = (10,2)"
   ]
  },
  {
   "cell_type": "code",
   "execution_count": 3,
   "id": "5246e4d0-5d01-486d-8358-c8ee016fcb87",
   "metadata": {},
   "outputs": [
    {
     "name": "stdout",
     "output_type": "stream",
     "text": [
      "[(0, 1), (1, 2), (2, 3), (3, 4), (4, 5), (5, 6), (6, 7)]\n"
     ]
    }
   ],
   "source": [
    "# enumarate()\n",
    "\n",
    "a = enumerate([1,2,3,4,5,6,7])\n",
    "print(list(a))"
   ]
  },
  {
   "cell_type": "code",
   "execution_count": 2,
   "id": "724e8944-4f39-4f2b-a8f5-6d96299ed3f4",
   "metadata": {},
   "outputs": [
    {
     "data": {
      "text/plain": [
       "(5, 0)"
      ]
     },
     "execution_count": 2,
     "metadata": {},
     "output_type": "execute_result"
    }
   ],
   "source": [
    "#divmod\n",
    "\n",
    "divmod(10,2)"
   ]
  },
  {
   "cell_type": "code",
   "execution_count": 11,
   "id": "73e3c11b-7897-4cdc-b97e-cea7ddc88c1b",
   "metadata": {},
   "outputs": [
    {
     "name": "stdout",
     "output_type": "stream",
     "text": [
      "[1, 2]\n"
     ]
    }
   ],
   "source": [
    "def a(x):\n",
    "    if x<10:\n",
    "        return x\n",
    "result = filter (a,(1,2,11))\n",
    "print(list(result))"
   ]
  },
  {
   "cell_type": "code",
   "execution_count": null,
   "id": "1cd67c8f-6598-49c5-9f00-bc6e63e81800",
   "metadata": {},
   "outputs": [
    {
     "name": "stdout",
     "output_type": "stream",
     "text": [
      "Welcome to Python 3.12's help utility! If this is your first time using\n",
      "Python, you should definitely check out the tutorial at\n",
      "https://docs.python.org/3.12/tutorial/.\n",
      "\n",
      "Enter the name of any module, keyword, or topic to get help on writing\n",
      "Python programs and using Python modules.  To get a list of available\n",
      "modules, keywords, symbols, or topics, enter \"modules\", \"keywords\",\n",
      "\"symbols\", or \"topics\".\n",
      "\n",
      "Each module also comes with a one-line summary of what it does; to list\n",
      "the modules whose name or summary contain a given string such as \"spam\",\n",
      "enter \"modules spam\".\n",
      "\n",
      "To quit this help utility and return to the interpreter,\n",
      "enter \"q\" or \"quit\".\n",
      "\n"
     ]
    }
   ],
   "source": [
    "a = help()\n",
    "print(a)"
   ]
  },
  {
   "cell_type": "markdown",
   "id": "9ec5dd30-6250-4c58-b4f3-0eb03b4431b9",
   "metadata": {},
   "source": [
    "# lambda function"
   ]
  },
  {
   "cell_type": "code",
   "execution_count": 1,
   "id": "3c73e4cb-2679-47fe-923b-86aa2dcb0d8f",
   "metadata": {},
   "outputs": [
    {
     "name": "stdout",
     "output_type": "stream",
     "text": [
      "25\n"
     ]
    }
   ],
   "source": [
    "a = lambda x: x**2\n",
    "result = a(5)\n",
    "print (result)"
   ]
  },
  {
   "cell_type": "code",
   "execution_count": 3,
   "id": "a8b87641-df33-4a95-9cb2-dbd79fbfa3c5",
   "metadata": {},
   "outputs": [
    {
     "data": {
      "text/plain": [
       "15"
      ]
     },
     "execution_count": 3,
     "metadata": {},
     "output_type": "execute_result"
    }
   ],
   "source": [
    "a = lambda x,y,z : (x+y+z)\n",
    "a (4,5,6)"
   ]
  },
  {
   "cell_type": "code",
   "execution_count": 6,
   "id": "d8255c9a-b668-4e25-9edb-51b332faa54b",
   "metadata": {},
   "outputs": [
    {
     "name": "stdout",
     "output_type": "stream",
     "text": [
      "DEF keyword\n",
      "Def keyword: 0.16666666666666666\n",
      "\n",
      "Lambda keyword\n",
      "Lambda keyword: 0.16666666666666666\n"
     ]
    }
   ],
   "source": [
    "# reciprocal ---> it returns 1\n",
    "print('DEF keyword')\n",
    "\n",
    "def reciprocal(num):\n",
    "    return 1/num\n",
    "print(\"Def keyword:\", reciprocal (6))\n",
    "print()\n",
    "\n",
    "print('Lambda keyword')\n",
    "a = lambda num: 1/num\n",
    "print('Lambda keyword:' ,a(6))"
   ]
  },
  {
   "cell_type": "code",
   "execution_count": 7,
   "id": "c2e50139-1c80-4d1a-8450-b078bd01a23b",
   "metadata": {},
   "outputs": [
    {
     "name": "stdout",
     "output_type": "stream",
     "text": [
      "[1, 4, 9, 16, 25]\n"
     ]
    }
   ],
   "source": [
    "# map()\n",
    "numbers = [1,2,3,4,5]\n",
    "a = list(map(lambda x :x**2, numbers))\n",
    "print(a)"
   ]
  },
  {
   "cell_type": "code",
   "execution_count": 12,
   "id": "00e0f003-7863-4125-83b9-3d2c27120ada",
   "metadata": {},
   "outputs": [
    {
     "name": "stdout",
     "output_type": "stream",
     "text": [
      "[4, 8]\n"
     ]
    }
   ],
   "source": [
    "# filter()\n",
    "\n",
    "numbers = [1,2,3,4,5,6,7,8,9,10]\n",
    "a = list(filter(lambda x: x%4 == 0, numbers))\n",
    "print(a)"
   ]
  },
  {
   "cell_type": "code",
   "execution_count": 18,
   "id": "500deae8-e227-426c-a4b0-2bf9bed32578",
   "metadata": {},
   "outputs": [
    {
     "name": "stdout",
     "output_type": "stream",
     "text": [
      "362880\n"
     ]
    }
   ],
   "source": [
    "# reduce() ----> iteratively combine  all elements  from the input list \n",
    " # and produce a single result\n",
    "\n",
    "#from module import function\n",
    "from functools import reduce\n",
    "\n",
    "numbers = [1,2,3,4,5,6,7,8,9]\n",
    "b = reduce(lambda x,y : x*y, numbers) #--------->1*2*3*4*5 = 120\n",
    "print(b)\n"
   ]
  },
  {
   "cell_type": "code",
   "execution_count": null,
   "id": "ebb431b0-85a9-47ab-9066-37fc5554ea9f",
   "metadata": {},
   "outputs": [],
   "source": [
    "# local variables ----> inside the function\n"
   ]
  },
  {
   "cell_type": "code",
   "execution_count": 25,
   "id": "0bf7577f-473d-4459-a786-31e699aa7b34",
   "metadata": {},
   "outputs": [
    {
     "name": "stdout",
     "output_type": "stream",
     "text": [
      "inside the function: 5\n"
     ]
    }
   ],
   "source": [
    "def abc():\n",
    "    y = 5\n",
    "    print(\"inside the function:\",y)\n",
    "    \n",
    "abc()"
   ]
  },
  {
   "cell_type": "code",
   "execution_count": 27,
   "id": "93a4c1df-ec76-491f-98a5-e02d40e54e2d",
   "metadata": {},
   "outputs": [
    {
     "name": "stdout",
     "output_type": "stream",
     "text": [
      "outside the funtion: 10\n",
      "inside the function: 15\n"
     ]
    }
   ],
   "source": [
    "# global variables\n",
    "x = 10\n",
    "\n",
    "def navvi():\n",
    "    global x\n",
    "    x = x+5\n",
    "    print(\"inside the function:\",x)\n",
    "\n",
    "print(\"outside the funtion:\",x)\n",
    "navvi()\n"
   ]
  },
  {
   "cell_type": "code",
   "execution_count": null,
   "id": "ad8465f6-a06c-417c-8201-e2bd8ba03488",
   "metadata": {},
   "outputs": [],
   "source": []
  },
  {
   "cell_type": "code",
   "execution_count": null,
   "id": "81f0c8cf-4d77-4627-a536-9429628ceb95",
   "metadata": {},
   "outputs": [],
   "source": []
  }
 ],
 "metadata": {
  "kernelspec": {
   "display_name": "Python 3 (ipykernel)",
   "language": "python",
   "name": "python3"
  },
  "language_info": {
   "codemirror_mode": {
    "name": "ipython",
    "version": 3
   },
   "file_extension": ".py",
   "mimetype": "text/x-python",
   "name": "python",
   "nbconvert_exporter": "python",
   "pygments_lexer": "ipython3",
   "version": "3.12.4"
  }
 },
 "nbformat": 4,
 "nbformat_minor": 5
}
