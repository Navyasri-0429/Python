{
 "cells": [
  {
   "cell_type": "code",
   "execution_count": 3,
   "id": "4172eef4-f753-439e-96e3-8227dc93dab4",
   "metadata": {},
   "outputs": [
    {
     "name": "stdout",
     "output_type": "stream",
     "text": [
      "1.26.4\n"
     ]
    }
   ],
   "source": [
    "import numpy\n",
    "print(numpy.__version__)"
   ]
  },
  {
   "cell_type": "code",
   "execution_count": null,
   "id": "92033a4c-22e9-405f-9765-c2e963542771",
   "metadata": {},
   "outputs": [],
   "source": []
  },
  {
   "cell_type": "code",
   "execution_count": null,
   "id": "eb038d07-2164-4923-9794-66f7db246d6a",
   "metadata": {},
   "outputs": [],
   "source": []
  },
  {
   "cell_type": "code",
   "execution_count": null,
   "id": "76f085ac-b651-4755-aaf1-5453678ace8a",
   "metadata": {},
   "outputs": [],
   "source": []
  },
  {
   "cell_type": "code",
   "execution_count": null,
   "id": "c51c59a3-0673-4845-99b7-2aa4272a287a",
   "metadata": {},
   "outputs": [],
   "source": []
  },
  {
   "cell_type": "code",
   "execution_count": null,
   "id": "8da6bc9f-fd11-4c0d-82db-e1db16343c45",
   "metadata": {},
   "outputs": [],
   "source": []
  },
  {
   "cell_type": "code",
   "execution_count": null,
   "id": "0017e1d1-d61d-42a0-bbd6-b2a279a20309",
   "metadata": {},
   "outputs": [],
   "source": []
  },
  {
   "cell_type": "code",
   "execution_count": null,
   "id": "3391db54-1e44-4e0b-8294-6b2a47de1ae0",
   "metadata": {},
   "outputs": [],
   "source": []
  },
  {
   "cell_type": "code",
   "execution_count": null,
   "id": "dd61b313-4f35-466c-aab8-95b5d2082f2f",
   "metadata": {},
   "outputs": [],
   "source": []
  },
  {
   "cell_type": "code",
   "execution_count": null,
   "id": "c92bf2c3-df6e-49a9-b0c7-5b63414e08f3",
   "metadata": {},
   "outputs": [],
   "source": []
  },
  {
   "cell_type": "code",
   "execution_count": null,
   "id": "c4a0a09e-43a2-4a28-a7f1-0caa6561a70c",
   "metadata": {},
   "outputs": [],
   "source": []
  },
  {
   "cell_type": "code",
   "execution_count": null,
   "id": "e7d10faf-3fba-49ef-a175-5566eb1ec5d2",
   "metadata": {},
   "outputs": [],
   "source": []
  },
  {
   "cell_type": "code",
   "execution_count": null,
   "id": "37337599-2006-4650-9f8c-1e4b881bd991",
   "metadata": {},
   "outputs": [],
   "source": []
  },
  {
   "cell_type": "code",
   "execution_count": 12,
   "id": "31569973-4465-44dd-9dcb-7cfe03ea243f",
   "metadata": {},
   "outputs": [],
   "source": [
    "import numpy as np"
   ]
  },
  {
   "cell_type": "code",
   "execution_count": 13,
   "id": "27f4f800-6caf-4958-8cd4-b0244cc3d112",
   "metadata": {},
   "outputs": [
    {
     "name": "stdout",
     "output_type": "stream",
     "text": [
      "<built-in function array>\n"
     ]
    }
   ],
   "source": [
    "a = np.array\n",
    "print(a)"
   ]
  },
  {
   "cell_type": "code",
   "execution_count": 14,
   "id": "0fba10b0-d086-4b62-8774-2eff7b4bfb88",
   "metadata": {},
   "outputs": [
    {
     "name": "stdout",
     "output_type": "stream",
     "text": [
      "[1 2 3 4]\n"
     ]
    }
   ],
   "source": [
    " a = np.array([1,2,3,4])\n",
    "print(a)"
   ]
  },
  {
   "cell_type": "code",
   "execution_count": 15,
   "id": "7f559156-85bf-41cf-882f-bdf63e79679a",
   "metadata": {},
   "outputs": [
    {
     "name": "stdout",
     "output_type": "stream",
     "text": [
      "[[1 2 3]\n",
      " [4 5 6]]\n",
      "int32\n",
      "2\n"
     ]
    }
   ],
   "source": [
    "a =  np.array([[1,2,3],[4,5,6]])\n",
    "print(a)\n",
    "print(a.dtype)\n",
    "print(a.ndim)"
   ]
  },
  {
   "cell_type": "code",
   "execution_count": 16,
   "id": "f5f7b351-ee19-4efb-85b8-c9244d68fdf8",
   "metadata": {},
   "outputs": [
    {
     "name": "stdout",
     "output_type": "stream",
     "text": [
      "[1.+0.j 2.+0.j 3.+0.j]\n"
     ]
    }
   ],
   "source": [
    "a = np.array([1,2,3], complex)\n",
    "print(a)"
   ]
  },
  {
   "cell_type": "code",
   "execution_count": 19,
   "id": "fbf227ba-faaa-4fea-8e9a-6f69c04c88fb",
   "metadata": {},
   "outputs": [
    {
     "name": "stdout",
     "output_type": "stream",
     "text": [
      "5\n",
      "(1, 5)\n"
     ]
    }
   ],
   "source": [
    "a = np.array([[1,2,3,4,5]])\n",
    "print(a.size)\n",
    "print(a.shape)"
   ]
  },
  {
   "cell_type": "code",
   "execution_count": 4,
   "id": "c3641ccf-b120-4503-8397-232640451bd4",
   "metadata": {},
   "outputs": [],
   "source": [
    "import numpy as np"
   ]
  },
  {
   "cell_type": "code",
   "execution_count": 9,
   "id": "38619a6e-74c8-423c-83ee-a8b9031beeb7",
   "metadata": {},
   "outputs": [
    {
     "name": "stdout",
     "output_type": "stream",
     "text": [
      "Original\n",
      "[[1 2 3]\n",
      " [4 5 6]\n",
      " [7 8 9]]\n",
      "(3, 3)\n"
     ]
    },
    {
     "ename": "ValueError",
     "evalue": "cannot reshape array of size 9 into shape (2,3)",
     "output_type": "error",
     "traceback": [
      "\u001b[1;31m---------------------------------------------------------------------------\u001b[0m",
      "\u001b[1;31mValueError\u001b[0m                                Traceback (most recent call last)",
      "Cell \u001b[1;32mIn[9], line 6\u001b[0m\n\u001b[0;32m      3\u001b[0m \u001b[38;5;28mprint\u001b[39m(a)\n\u001b[0;32m      4\u001b[0m \u001b[38;5;28mprint\u001b[39m(a\u001b[38;5;241m.\u001b[39mshape)\n\u001b[1;32m----> 6\u001b[0m b \u001b[38;5;241m=\u001b[39m a\u001b[38;5;241m.\u001b[39mreshape(\u001b[38;5;241m2\u001b[39m,\u001b[38;5;241m3\u001b[39m)\n\u001b[0;32m      7\u001b[0m \u001b[38;5;28mprint\u001b[39m(\u001b[38;5;124m'\u001b[39m\u001b[38;5;124mReshaped array\u001b[39m\u001b[38;5;124m'\u001b[39m)\n\u001b[0;32m      8\u001b[0m \u001b[38;5;28mprint\u001b[39m(b)\n",
      "\u001b[1;31mValueError\u001b[0m: cannot reshape array of size 9 into shape (2,3)"
     ]
    }
   ],
   "source": [
    "a = np.array([[1,2,3],[4,5,6],[7,8,9]])\n",
    "print('Original')\n",
    "print(a)\n",
    "print(a.shape)\n",
    "\n",
    "b = a.reshape(2,3)\n",
    "print('Reshaped array')\n",
    "print(b)"
   ]
  },
  {
   "cell_type": "code",
   "execution_count": 12,
   "id": "fe9caa6b-8ada-4ef4-8b7d-6234a5e74bdb",
   "metadata": {},
   "outputs": [
    {
     "name": "stdout",
     "output_type": "stream",
     "text": [
      "[[1 2 3]\n",
      " [4 5 6]\n",
      " [7 8 9]]\n",
      "2\n",
      "8\n"
     ]
    }
   ],
   "source": [
    "# SLICING\n",
    "\n",
    "a = np.array([[1,2,3],[4,5,6],[7,8,9]])\n",
    "print(a)\n",
    "\n",
    "print(a[0,1])\n",
    "print(a[2,1])"
   ]
  },
  {
   "cell_type": "code",
   "execution_count": 17,
   "id": "6268d037-5c1f-4ff9-8284-5ad5c3170b08",
   "metadata": {},
   "outputs": [
    {
     "name": "stdout",
     "output_type": "stream",
     "text": [
      "[     1      2      3      5     56     57    687 945452]\n",
      "maximum number: 945452\n",
      "minimum number: 1\n",
      "sum of all values: 946263\n"
     ]
    }
   ],
   "source": [
    " a= np.array([1,2,3,5,56,57,687,945452])\n",
    "print(a)\n",
    "print(\"maximum number:\", a.max())\n",
    "print(\"minimum number:\", a.min())\n",
    "print(\"sum of all values:\", a.sum())"
   ]
  },
  {
   "cell_type": "code",
   "execution_count": 20,
   "id": "37e208c2-cba0-43c9-8267-2398947aac61",
   "metadata": {},
   "outputs": [
    {
     "data": {
      "text/plain": [
       "array([[1., 0., 0., 0.],\n",
       "       [0., 1., 0., 0.],\n",
       "       [0., 0., 1., 0.],\n",
       "       [0., 0., 0., 1.]])"
      ]
     },
     "execution_count": 20,
     "metadata": {},
     "output_type": "execute_result"
    }
   ],
   "source": [
    "np.identity(4)"
   ]
  },
  {
   "cell_type": "code",
   "execution_count": 21,
   "id": "2c7542ea-2b6f-4b25-a06e-3b492cc14cb4",
   "metadata": {},
   "outputs": [
    {
     "data": {
      "text/plain": [
       "array([[0., 0., 0., 0., 0.],\n",
       "       [0., 0., 0., 0., 0.]])"
      ]
     },
     "execution_count": 21,
     "metadata": {},
     "output_type": "execute_result"
    }
   ],
   "source": [
    "np.zeros((2,5))"
   ]
  },
  {
   "cell_type": "code",
   "execution_count": 22,
   "id": "c3f00069-8df9-4935-9a9a-57721ae53793",
   "metadata": {},
   "outputs": [
    {
     "data": {
      "text/plain": [
       "array([[1., 1., 1., 1.],\n",
       "       [1., 1., 1., 1.]])"
      ]
     },
     "execution_count": 22,
     "metadata": {},
     "output_type": "execute_result"
    }
   ],
   "source": [
    "np.ones((2,4))"
   ]
  },
  {
   "cell_type": "code",
   "execution_count": 23,
   "id": "09845fab-061a-4396-b490-0b913d6e1762",
   "metadata": {},
   "outputs": [
    {
     "name": "stdout",
     "output_type": "stream",
     "text": [
      "[[1 2]\n",
      " [2 3]\n",
      " [4 5]]\n"
     ]
    }
   ],
   "source": [
    "a = np.array([[1,2], [2,3],[4,5]])\n",
    "print(a)"
   ]
  },
  {
   "cell_type": "code",
   "execution_count": 28,
   "id": "2782e50d-6db2-45c0-8b4c-2cdcfcb8bca7",
   "metadata": {},
   "outputs": [
    {
     "name": "stdout",
     "output_type": "stream",
     "text": [
      "[[1 2]\n",
      " [2 3]\n",
      " [4 5]]\n",
      "maximum number in columns: [4 5]\n",
      "maximum number in rows: [1 2 4]\n",
      " sum of all values: [3 5 9]\n"
     ]
    }
   ],
   "source": [
    "a = np.array([[1,2], [2,3],[4,5]])\n",
    "print(a)\n",
    "print(\"maximum number in columns:\",  a.max(axis=0))\n",
    "print(\"maximum number in rows:\",  a.min(axis=1))\n",
    "print(\" sum of all values:\",  a.sum(axis=1))"
   ]
  },
  {
   "cell_type": "code",
   "execution_count": 30,
   "id": "c20a8444-88f6-4237-b014-1192ccd4417a",
   "metadata": {},
   "outputs": [
    {
     "name": "stdout",
     "output_type": "stream",
     "text": [
      "[[-1.92371391 -1.65289002 -1.21916786 -1.57196203]\n",
      " [-0.82339687  0.20363164  0.7475774   0.20362515]\n",
      " [ 0.93195196  0.9204541  -0.63216321  0.98483733]]\n"
     ]
    }
   ],
   "source": [
    "# randn-------> generates  random number between (-1,0,1)\n",
    "\n",
    "a= np.random.randn(3,4)\n",
    "print(a)"
   ]
  },
  {
   "cell_type": "code",
   "execution_count": 34,
   "id": "69e47efd-f412-486d-baaa-3d342778da5b",
   "metadata": {},
   "outputs": [],
   "source": [
    "import numpy as np"
   ]
  },
  {
   "cell_type": "code",
   "execution_count": 41,
   "id": "ee765809-3a88-4f39-a18f-acc23dd164a7",
   "metadata": {},
   "outputs": [
    {
     "name": "stdout",
     "output_type": "stream",
     "text": [
      "sum of a and b:\n",
      " [[ 3  5  8]\n",
      " [ 9 11 13]]\n"
     ]
    }
   ],
   "source": [
    "# arithmetic  operations\n",
    "\n",
    "a = np.array([[1,2,3],[5,6,7]])\n",
    "b = np.array([[2,3,5],[4,5,6]])\n",
    "\n",
    "print(\"sum of a and b:\\n\",a+b)"
   ]
  },
  {
   "cell_type": "code",
   "execution_count": null,
   "id": "dbf17a97-a1cc-4828-ada5-e448e5bb2c4d",
   "metadata": {},
   "outputs": [],
   "source": [
    "# RANGING FUNCTION-------> range()\n",
    "# ranging function in numpy--------> arrange()"
   ]
  },
  {
   "cell_type": "code",
   "execution_count": 2,
   "id": "05485529-efdf-4abf-bc48-3f201241f999",
   "metadata": {},
   "outputs": [
    {
     "name": "stdout",
     "output_type": "stream",
     "text": [
      "0\n",
      "1\n",
      "2\n",
      "3\n",
      "4\n",
      "5\n",
      "6\n",
      "7\n",
      "8\n",
      "9\n",
      "10\n"
     ]
    }
   ],
   "source": [
    "for i in range(11):\n",
    "    print(i)"
   ]
  },
  {
   "cell_type": "code",
   "execution_count": 5,
   "id": "e5973457-68c7-4543-8a89-2ce0243d4511",
   "metadata": {},
   "outputs": [],
   "source": [
    "import numpy as np"
   ]
  },
  {
   "cell_type": "code",
   "execution_count": 6,
   "id": "760444b7-26d6-4b60-a41d-1a6e35c25396",
   "metadata": {},
   "outputs": [
    {
     "ename": "NameError",
     "evalue": "name 'np' is not defined",
     "output_type": "error",
     "traceback": [
      "\u001b[1;31m---------------------------------------------------------------------------\u001b[0m",
      "\u001b[1;31mNameError\u001b[0m                                 Traceback (most recent call last)",
      "Cell \u001b[1;32mIn[6], line 1\u001b[0m\n\u001b[1;32m----> 1\u001b[0m \u001b[38;5;28mprint\u001b[39m(np\u001b[38;5;241m.\u001b[39marray(\u001b[38;5;241m11\u001b[39m))\n",
      "\u001b[1;31mNameError\u001b[0m: name 'np' is not defined"
     ]
    }
   ],
   "source": [
    "print(np.array(11))"
   ]
  },
  {
   "cell_type": "code",
   "execution_count": 48,
   "id": "39a3afbc-551d-4577-a1a1-4db822f6610b",
   "metadata": {},
   "outputs": [
    {
     "data": {
      "text/plain": [
       "array([[ 0,  1,  2,  3],\n",
       "       [ 4,  5,  6,  7],\n",
       "       [ 8,  9, 10, 11]])"
      ]
     },
     "execution_count": 48,
     "metadata": {},
     "output_type": "execute_result"
    }
   ],
   "source": [
    "np.arange(12).reshape(3,4)"
   ]
  },
  {
   "cell_type": "code",
   "execution_count": 51,
   "id": "ac5277cd-b627-43fd-bdf4-88365793e5ef",
   "metadata": {},
   "outputs": [
    {
     "name": "stdout",
     "output_type": "stream",
     "text": [
      "[[[ 0  1  2]\n",
      "  [ 3  4  5]]\n",
      "\n",
      " [[ 6  7  8]\n",
      "  [ 9 10 11]]]\n",
      "***********************\n",
      "[[0 1 2]\n",
      " [3 4 5]]\n",
      "***********************\n",
      "[3 4 5]\n"
     ]
    }
   ],
   "source": [
    "a = np.arange(12).reshape(2,2,3)\n",
    "print(a)\n",
    "print('***********************')\n",
    "print(a[0])\n",
    "print('***********************')\n",
    "print(a[0][1])"
   ]
  },
  {
   "cell_type": "code",
   "execution_count": 9,
   "id": "7493490b-86d3-4c9b-9028-fb83cd338cb7",
   "metadata": {},
   "outputs": [],
   "source": [
    "import numpy as np"
   ]
  },
  {
   "cell_type": "code",
   "execution_count": 47,
   "id": "3fa77b3f-8b7f-445f-8716-34c101d13855",
   "metadata": {},
   "outputs": [
    {
     "name": "stdout",
     "output_type": "stream",
     "text": [
      "[ 0  1  2  3  4  5  6  7  8  9 10 11]\n"
     ]
    },
    {
     "ename": "AttributeError",
     "evalue": "module 'numpy' has no attribute 'arage'",
     "output_type": "error",
     "traceback": [
      "\u001b[1;31m---------------------------------------------------------------------------\u001b[0m",
      "\u001b[1;31mAttributeError\u001b[0m                            Traceback (most recent call last)",
      "Cell \u001b[1;32mIn[47], line 2\u001b[0m\n\u001b[0;32m      1\u001b[0m \u001b[38;5;28mprint\u001b[39m(np\u001b[38;5;241m.\u001b[39marange(\u001b[38;5;241m12\u001b[39m))\n\u001b[1;32m----> 2\u001b[0m \u001b[38;5;28mprint\u001b[39m(np\u001b[38;5;241m.\u001b[39marage(\u001b[38;5;241m12\u001b[39m)[\u001b[38;5;241m1\u001b[39m:\u001b[38;5;241m6\u001b[39m])\n\u001b[0;32m      3\u001b[0m \u001b[38;5;28mprint\u001b[39m(np\u001b[38;5;241m.\u001b[39marange(\u001b[38;5;241m12\u001b[39m)[\u001b[38;5;241m1\u001b[39m:\u001b[38;5;241m5\u001b[39m][\u001b[38;5;241m1\u001b[39m])\n",
      "File \u001b[1;32m~\\anaconda3\\Lib\\site-packages\\numpy\\__init__.py:333\u001b[0m, in \u001b[0;36m__getattr__\u001b[1;34m(attr)\u001b[0m\n\u001b[0;32m    330\u001b[0m     \u001b[38;5;124m\"\u001b[39m\u001b[38;5;124mRemoved in NumPy 1.25.0\u001b[39m\u001b[38;5;124m\"\u001b[39m\n\u001b[0;32m    331\u001b[0m     \u001b[38;5;28;01mraise\u001b[39;00m \u001b[38;5;167;01mRuntimeError\u001b[39;00m(\u001b[38;5;124m\"\u001b[39m\u001b[38;5;124mTester was removed in NumPy 1.25.\u001b[39m\u001b[38;5;124m\"\u001b[39m)\n\u001b[1;32m--> 333\u001b[0m \u001b[38;5;28;01mraise\u001b[39;00m \u001b[38;5;167;01mAttributeError\u001b[39;00m(\u001b[38;5;124m\"\u001b[39m\u001b[38;5;124mmodule \u001b[39m\u001b[38;5;132;01m{!r}\u001b[39;00m\u001b[38;5;124m has no attribute \u001b[39m\u001b[38;5;124m\"\u001b[39m\n\u001b[0;32m    334\u001b[0m                      \u001b[38;5;124m\"\u001b[39m\u001b[38;5;132;01m{!r}\u001b[39;00m\u001b[38;5;124m\"\u001b[39m\u001b[38;5;241m.\u001b[39mformat(\u001b[38;5;18m__name__\u001b[39m, attr))\n",
      "\u001b[1;31mAttributeError\u001b[0m: module 'numpy' has no attribute 'arage'"
     ]
    }
   ],
   "source": [
    "print(np.arange(12))\n",
    "print(np.arage(12)[1:6])\n",
    "print(np.arange(12)[1:5][1])"
   ]
  },
  {
   "cell_type": "code",
   "execution_count": null,
   "id": "83d79309-81c6-462d-9077-8d44786578a0",
   "metadata": {},
   "outputs": [],
   "source": [
    "# numpy broad casting"
   ]
  },
  {
   "cell_type": "code",
   "execution_count": 15,
   "id": "9e464ec9-3a89-48d1-b9b4-76446e415649",
   "metadata": {},
   "outputs": [
    {
     "name": "stdout",
     "output_type": "stream",
     "text": [
      "[  3  10  24  36 325  18  35]\n"
     ]
    }
   ],
   "source": [
    "a = np.array([1,2,3,4,5,6,7])\n",
    "b = np.array([3,5,8,9,65,3,5])\n",
    "c = a*b\n",
    "print(c)"
   ]
  },
  {
   "cell_type": "code",
   "execution_count": 22,
   "id": "de1c1f3d-b2d1-4c5e-ac0b-5a757de3f6c8",
   "metadata": {},
   "outputs": [
    {
     "name": "stdout",
     "output_type": "stream",
     "text": [
      "[[ 1  2  4  5]\n",
      " [ 2  4  5  6]\n",
      " [10  2 60 40]]\n",
      "********************\n",
      "[[ 3  6 10 13]\n",
      " [ 4  8 11 14]\n",
      " [12  6 66 48]]\n",
      "**********************\n",
      "[[-1 -2 -2 -3]\n",
      " [ 0  0 -1 -2]\n",
      " [ 8 -2 54 32]]\n",
      "**********************\n",
      "[[  2   8  24  40]\n",
      " [  4  16  30  48]\n",
      " [ 20   8 360 320]]\n",
      "**********************\n",
      "[[ 0.5         0.5         0.66666667  0.625     ]\n",
      " [ 1.          1.          0.83333333  0.75      ]\n",
      " [ 5.          0.5        10.          5.        ]]\n"
     ]
    }
   ],
   "source": [
    "a = np.array([[1,2,4,5],[2,4,5,6],[10,2,60,40]])\n",
    "b = np.array([2,4,6,8])\n",
    "print(a)\n",
    "print('********************')\n",
    "print(a+b)\n",
    "print('**********************')\n",
    "print(a-b)\n",
    "print('**********************')\n",
    "print(a*b)\n",
    "print('**********************')\n",
    "print(a/b)"
   ]
  },
  {
   "cell_type": "code",
   "execution_count": 25,
   "id": "8e1debd7-a73e-4b94-832c-e6112da282ab",
   "metadata": {},
   "outputs": [],
   "source": [
    "import numpy as np"
   ]
  },
  {
   "cell_type": "code",
   "execution_count": 46,
   "id": "059e2c4b-eb0a-4fff-805a-81ea5e4947e9",
   "metadata": {},
   "outputs": [
    {
     "name": "stdout",
     "output_type": "stream",
     "text": [
      "[[ 0  1  2]\n",
      " [ 3  4  5]\n",
      " [ 6  7  8]\n",
      " [ 9 10 11]\n",
      " [12 13 14]]\n"
     ]
    },
    {
     "ename": "ValueError",
     "evalue": "cannot reshape array of size 5 into shape (5,3)",
     "output_type": "error",
     "traceback": [
      "\u001b[1;31m---------------------------------------------------------------------------\u001b[0m",
      "\u001b[1;31mValueError\u001b[0m                                Traceback (most recent call last)",
      "Cell \u001b[1;32mIn[46], line 3\u001b[0m\n\u001b[0;32m      1\u001b[0m a \u001b[38;5;241m=\u001b[39m np\u001b[38;5;241m.\u001b[39marange(\u001b[38;5;241m15\u001b[39m)\u001b[38;5;241m.\u001b[39mreshape(\u001b[38;5;241m5\u001b[39m,\u001b[38;5;241m3\u001b[39m)\n\u001b[0;32m      2\u001b[0m \u001b[38;5;28mprint\u001b[39m(a)\n\u001b[1;32m----> 3\u001b[0m b\u001b[38;5;241m=\u001b[39m np\u001b[38;5;241m.\u001b[39marange(\u001b[38;5;241m5\u001b[39m)\u001b[38;5;241m.\u001b[39mreshape(\u001b[38;5;241m5\u001b[39m,\u001b[38;5;241m3\u001b[39m)\n\u001b[0;32m      4\u001b[0m \u001b[38;5;28mprint\u001b[39m(a\u001b[38;5;241m+\u001b[39mb)\n",
      "\u001b[1;31mValueError\u001b[0m: cannot reshape array of size 5 into shape (5,3)"
     ]
    }
   ],
   "source": [
    "a = np.arange(15).reshape(5,3)\n",
    "print(a)\n",
    "b= np.arange(5).reshape(5,3)\n",
    "print(a+b)\n"
   ]
  },
  {
   "cell_type": "code",
   "execution_count": 31,
   "id": "435eeb54-c8f3-49c1-8dbe-5cc401278994",
   "metadata": {},
   "outputs": [
    {
     "name": "stdout",
     "output_type": "stream",
     "text": [
      "[[ 1  2  3  4]\n",
      " [ 3  3  4  5]\n",
      " [23  2 35  5]]\n",
      "****************\n",
      "[[ 1  3 23]\n",
      " [ 2  3  2]\n",
      " [ 3  4 35]\n",
      " [ 4  5  5]]\n"
     ]
    }
   ],
   "source": [
    "a = np.array([[1,2,3,4],[3,3,4,5],[23,2,35,5]])\n",
    "print(a)\n",
    "print('****************')\n",
    "b = a.T\n",
    "print(b)"
   ]
  },
  {
   "cell_type": "code",
   "execution_count": 39,
   "id": "e7ff9416-52db-4867-ac2b-72af1633de3d",
   "metadata": {},
   "outputs": [
    {
     "name": "stdout",
     "output_type": "stream",
     "text": [
      "['apple' 'banana' 'mango']\n",
      "*************\n",
      "[['welcome']\n",
      " ['hi']]\n"
     ]
    }
   ],
   "source": [
    "print(np.array(['apple','banana','mango']))\n",
    "print('*************')\n",
    "print(np.array([['welcome'],['hi']]))\n",
    "      "
   ]
  },
  {
   "cell_type": "code",
   "execution_count": 43,
   "id": "9c2d5225-ec6d-4625-a0f3-13e0f9a861f7",
   "metadata": {},
   "outputs": [
    {
     "name": "stdout",
     "output_type": "stream",
     "text": [
      "['welcomehi']\n"
     ]
    }
   ],
   "source": [
    "print(np.char.add(['welcome'],['hi']))"
   ]
  },
  {
   "cell_type": "code",
   "execution_count": 45,
   "id": "0c79558b-cb24-4b29-a9a5-2c1fc914be65",
   "metadata": {},
   "outputs": [
    {
     "name": "stdout",
     "output_type": "stream",
     "text": [
      "['AAA' 'BBB']\n"
     ]
    }
   ],
   "source": [
    "a = np.array(['A','B'])\n",
    "b = np.char.multiply(a,3)\n",
    "print(b)"
   ]
  },
  {
   "cell_type": "code",
   "execution_count": null,
   "id": "8f0a3926-279f-4929-8c7d-ce30c8557fac",
   "metadata": {},
   "outputs": [],
   "source": [
    "# Rounding function"
   ]
  },
  {
   "cell_type": "code",
   "execution_count": 58,
   "id": "7c36cbb2-e50a-4e77-ad74-e3783bad551f",
   "metadata": {},
   "outputs": [
    {
     "name": "stdout",
     "output_type": "stream",
     "text": [
      "[12.12  90.12  12.544 52.34 ]\n",
      "Round Function: [12. 90. 13. 52.]\n",
      "Floor Function: [12. 90. 12. 52.]\n",
      "Ceil Function: [13. 91. 13. 53.]\n"
     ]
    }
   ],
   "source": [
    "a = np.array([12.12,90.12,12.544,52.34])\n",
    "print(a)\n",
    "print('Round Function:', np.around(a))\n",
    "print('Floor Function:', np.floor(a))\n",
    "print('Ceil Function:', np.ceil(a))\n"
   ]
  },
  {
   "cell_type": "code",
   "execution_count": 69,
   "id": "1d7c9cf6-72e8-4e2f-8326-d164233dc71b",
   "metadata": {},
   "outputs": [
    {
     "name": "stdout",
     "output_type": "stream",
     "text": [
      "[[1 2 3]\n",
      " [4 5 6]\n",
      " [7 8 9]]\n",
      "************************\n",
      "5.0\n",
      "************************\n",
      "5.0\n",
      "************************\n",
      "[4. 5. 6.]\n",
      "************************\n",
      "[2. 5. 8.]\n",
      "************************\n",
      "5.0\n"
     ]
    }
   ],
   "source": [
    "a = np.array([[1,2,3],[4,5,6],[7,8,9]])\n",
    "print(a)\n",
    "print('************************')\n",
    "print(np.median(a))\n",
    "print('************************')\n",
    "print(np.mean(a))\n",
    "print('************************')\n",
    "print(np.median(a,0))# columns\n",
    "print('************************')\n",
    "print(np.median(a,1))# rows\n",
    "print('************************')\n",
    "print(np.average(a))"
   ]
  },
  {
   "cell_type": "code",
   "execution_count": 72,
   "id": "6b92c156-fe16-4521-a891-d0cb695a77c6",
   "metadata": {},
   "outputs": [
    {
     "name": "stdout",
     "output_type": "stream",
     "text": [
      "[[100 200]\n",
      " [ 30  40]]\n",
      "*******************\n",
      "[[10 20]\n",
      " [50 60]]\n",
      "********************\n",
      "Dot product of a and b\n",
      "[[11000 14000]\n",
      " [ 2300  3000]]\n"
     ]
    }
   ],
   "source": [
    "a = np.array([[100,200],[30,40]])\n",
    "b = np.array([[10,20],[50,60]])\n",
    "print(a)\n",
    "print('*******************')\n",
    "print(b)\n",
    "print('********************')\n",
    "print('Dot product of a and b')\n",
    "print(np.dot(a,b))"
   ]
  },
  {
   "cell_type": "code",
   "execution_count": null,
   "id": "513fa8d2-dfe7-4c75-88d5-c9d0c01bc261",
   "metadata": {},
   "outputs": [],
   "source": []
  },
  {
   "cell_type": "code",
   "execution_count": null,
   "id": "524229d4-0236-4ad9-a3ba-78b082a7f8b0",
   "metadata": {},
   "outputs": [],
   "source": []
  }
 ],
 "metadata": {
  "kernelspec": {
   "display_name": "Python 3 (ipykernel)",
   "language": "python",
   "name": "python3"
  },
  "language_info": {
   "codemirror_mode": {
    "name": "ipython",
    "version": 3
   },
   "file_extension": ".py",
   "mimetype": "text/x-python",
   "name": "python",
   "nbconvert_exporter": "python",
   "pygments_lexer": "ipython3",
   "version": "3.12.4"
  }
 },
 "nbformat": 4,
 "nbformat_minor": 5
}
