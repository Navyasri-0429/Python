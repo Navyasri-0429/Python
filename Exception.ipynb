{
 "cells": [
  {
   "cell_type": "markdown",
   "id": "d79b4a52-aa35-47f1-be87-06c36af1f117",
   "metadata": {},
   "source": [
    "## Exception handling"
   ]
  },
  {
   "cell_type": "code",
   "execution_count": 18,
   "id": "7ec869be-bf7d-40f8-9e01-2618755f5572",
   "metadata": {},
   "outputs": [
    {
     "name": "stdout",
     "output_type": "stream",
     "text": [
      "o\n"
     ]
    }
   ],
   "source": [
    "a = \" Hello\"\n",
    "for i in a :\n",
    "    if i == 0:\n",
    "        break\n",
    "print(i)"
   ]
  },
  {
   "cell_type": "code",
   "execution_count": 27,
   "id": "8f08192a-7294-4297-9e4d-19c45d6ac4e1",
   "metadata": {},
   "outputs": [
    {
     "name": "stdout",
     "output_type": "stream",
     "text": [
      "H\n",
      "e\n",
      "l\n",
      "l\n",
      "o\n",
      "Execution done\n"
     ]
    }
   ],
   "source": [
    " a = \"Hello\"\n",
    "\n",
    " try:\n",
    "     for i in a:\n",
    "         if i == 2:\n",
    "             break\n",
    "         print(i)\n",
    " except :\n",
    "     print('name l is not defined')\n",
    " finally:\n",
    "     print(\"Execution done\")\n",
    "             "
   ]
  },
  {
   "cell_type": "code",
   "execution_count": 26,
   "id": "9c1d0dac-c616-4d84-9811-04a2ecc46d5c",
   "metadata": {},
   "outputs": [
    {
     "name": "stdin",
     "output_type": "stream",
     "text": [
      "Enter a number:  5\n"
     ]
    }
   ],
   "source": [
    " try:\n",
    "     x = int(input(\"Enter a number: \"))\n",
    "     result =10/x\n",
    "except:\n",
    "    print(result)"
   ]
  },
  {
   "cell_type": "code",
   "execution_count": 24,
   "id": "716dbe36-99fd-4cda-8718-9471e9cbe616",
   "metadata": {},
   "outputs": [
    {
     "name": "stdin",
     "output_type": "stream",
     "text": [
      "Enter a number:  5\n"
     ]
    },
    {
     "name": "stdout",
     "output_type": "stream",
     "text": [
      "Result is: 2.0\n",
      "Execution done\n"
     ]
    }
   ],
   "source": [
    "try:\n",
    "     x = int(input(\"Enter a number: \"))\n",
    "     result =10/x\n",
    "except ValueError:\n",
    "    print(\"Please enter a valid number\")\n",
    "except ZeroDivisionError:\n",
    "    print(\"Division by zero is not allowed\")\n",
    "except Exception as e:\n",
    "    print('Error occured')\n",
    "else:\n",
    "    print(\"Result is:\", result)\n",
    "finally:\n",
    "    print(\"Execution done\")"
   ]
  },
  {
   "cell_type": "code",
   "execution_count": 3,
   "id": "ad6c0ac4-b647-4554-8d8d-5a30a8ac43ab",
   "metadata": {},
   "outputs": [
    {
     "name": "stdout",
     "output_type": "stream",
     "text": [
      "Indexes of elements is  0 a\n",
      "Indexes of elements is  1 b\n",
      "Indexes of elements is  2 c\n",
      "list index out of range\n"
     ]
    }
   ],
   "source": [
    "try:\n",
    "    a  = ['a','b','c']\n",
    "    for i in range(4):\n",
    "        print(\"Indexes of elements is \", i,a[i])\n",
    "except:\n",
    "    print('list index out of range')"
   ]
  },
  {
   "cell_type": "code",
   "execution_count": 28,
   "id": "6aef55e1-88ee-4f04-8c4f-a30a6c163356",
   "metadata": {},
   "outputs": [
    {
     "name": "stdout",
     "output_type": "stream",
     "text": [
      "Caught a ValueError:x should be positive number\n"
     ]
    }
   ],
   "source": [
    "# create custom exception : create custom exception or user defined exception\n",
    "\n",
    "def function(x):\n",
    "    if x<0:\n",
    "        raise ValueError(\"x should be positive number\")\n",
    "    return x\n",
    "try:\n",
    "    result = function(-5)\n",
    "except ValueError as e:\n",
    "    print(f\"Caught a ValueError:{e}\")\n",
    "else:\n",
    "    print(f\"Result:{result}\")"
   ]
  },
  {
   "cell_type": "markdown",
   "id": "1af3f26f-18ed-448a-b793-aba6673c3fe2",
   "metadata": {},
   "source": [
    "# Execptions in Python"
   ]
  },
  {
   "cell_type": "code",
   "execution_count": 36,
   "id": "cfb29c1f-33bd-431e-873c-dbcdd1a917fe",
   "metadata": {},
   "outputs": [
    {
     "ename": "SyntaxError",
     "evalue": "incomplete input (3426525686.py, line 2)",
     "output_type": "error",
     "traceback": [
      "\u001b[1;36m  Cell \u001b[1;32mIn[36], line 2\u001b[1;36m\u001b[0m\n\u001b[1;33m    print(\"hello world\"\u001b[0m\n\u001b[1;37m                       ^\u001b[0m\n\u001b[1;31mSyntaxError\u001b[0m\u001b[1;31m:\u001b[0m incomplete input\n"
     ]
    }
   ],
   "source": [
    "# Syntax Error : when there is a mistake in code  known as syntax error\n",
    "print(\"hello world\""
   ]
  },
  {
   "cell_type": "code",
   "execution_count": 41,
   "id": "7685b1f8-e2db-481d-8c2c-0de54cc657f9",
   "metadata": {},
   "outputs": [
    {
     "ename": "IndentationError",
     "evalue": "expected an indented block after function definition on line 2 (2996493656.py, line 3)",
     "output_type": "error",
     "traceback": [
      "\u001b[1;36m  Cell \u001b[1;32mIn[41], line 3\u001b[1;36m\u001b[0m\n\u001b[1;33m    print('a')\u001b[0m\n\u001b[1;37m    ^\u001b[0m\n\u001b[1;31mIndentationError\u001b[0m\u001b[1;31m:\u001b[0m expected an indented block after function definition on line 2\n"
     ]
    }
   ],
   "source": [
    "# Indentation Error :  when there is a issue with code indentation it's known as code Indentationerror\n",
    "def function():\n",
    "print('a')"
   ]
  },
  {
   "cell_type": "code",
   "execution_count": 42,
   "id": "a0b9a46b-8fea-44dd-b422-0c630d79c367",
   "metadata": {},
   "outputs": [
    {
     "ename": "NameError",
     "evalue": "name 'p' is not defined",
     "output_type": "error",
     "traceback": [
      "\u001b[1;31m---------------------------------------------------------------------------\u001b[0m",
      "\u001b[1;31mNameError\u001b[0m                                 Traceback (most recent call last)",
      "Cell \u001b[1;32mIn[42], line 1\u001b[0m\n\u001b[1;32m----> 1\u001b[0m \u001b[38;5;28mprint\u001b[39m(p)\n",
      "\u001b[1;31mNameError\u001b[0m: name 'p' is not defined"
     ]
    }
   ],
   "source": [
    "# NameError: which the variable or function name is not defined\n",
    "print(p)"
   ]
  },
  {
   "cell_type": "code",
   "execution_count": 43,
   "id": "25a1483c-5828-4736-bf90-c3b680a8eada",
   "metadata": {},
   "outputs": [
    {
     "ename": "TypeError",
     "evalue": "can only concatenate str (not \"int\") to str",
     "output_type": "error",
     "traceback": [
      "\u001b[1;31m---------------------------------------------------------------------------\u001b[0m",
      "\u001b[1;31mTypeError\u001b[0m                                 Traceback (most recent call last)",
      "Cell \u001b[1;32mIn[43], line 2\u001b[0m\n\u001b[0;32m      1\u001b[0m \u001b[38;5;66;03m# TypeError : it performs when there is an inappropriatae type\u001b[39;00m\n\u001b[1;32m----> 2\u001b[0m result \u001b[38;5;241m=\u001b[39m \u001b[38;5;124m\"\u001b[39m\u001b[38;5;124mhello\u001b[39m\u001b[38;5;124m\"\u001b[39m\u001b[38;5;241m+\u001b[39m\u001b[38;5;241m2\u001b[39m\n",
      "\u001b[1;31mTypeError\u001b[0m: can only concatenate str (not \"int\") to str"
     ]
    }
   ],
   "source": [
    "# TypeError : it performs when there is an inappropriatae type\n",
    "result = \"hello\"+2"
   ]
  },
  {
   "cell_type": "code",
   "execution_count": 44,
   "id": "308111f3-b1e4-471b-a0e5-2f4b27de4591",
   "metadata": {},
   "outputs": [
    {
     "ename": "ValueError",
     "evalue": "invalid literal for int() with base 10: 'abc'",
     "output_type": "error",
     "traceback": [
      "\u001b[1;31m---------------------------------------------------------------------------\u001b[0m",
      "\u001b[1;31mValueError\u001b[0m                                Traceback (most recent call last)",
      "Cell \u001b[1;32mIn[44], line 1\u001b[0m\n\u001b[1;32m----> 1\u001b[0m a \u001b[38;5;241m=\u001b[39m \u001b[38;5;28mint\u001b[39m(\u001b[38;5;124m'\u001b[39m\u001b[38;5;124mabc\u001b[39m\u001b[38;5;124m'\u001b[39m)\n",
      "\u001b[1;31mValueError\u001b[0m: invalid literal for int() with base 10: 'abc'"
     ]
    }
   ],
   "source": [
    "# ValueError:  when a function receives an argument of the correct type but with an in appropriate value\n",
    "a = int('abc')"
   ]
  },
  {
   "cell_type": "code",
   "execution_count": 45,
   "id": "50145d87-0b1c-40fd-a7b0-fc605901c449",
   "metadata": {},
   "outputs": [
    {
     "ename": "IndexError",
     "evalue": "list index out of range",
     "output_type": "error",
     "traceback": [
      "\u001b[1;31m---------------------------------------------------------------------------\u001b[0m",
      "\u001b[1;31mIndexError\u001b[0m                                Traceback (most recent call last)",
      "Cell \u001b[1;32mIn[45], line 2\u001b[0m\n\u001b[0;32m      1\u001b[0m a \u001b[38;5;241m=\u001b[39m[\u001b[38;5;241m1\u001b[39m,\u001b[38;5;241m2\u001b[39m,\u001b[38;5;241m3\u001b[39m,\u001b[38;5;241m4\u001b[39m]\n\u001b[1;32m----> 2\u001b[0m \u001b[38;5;28mprint\u001b[39m(a[\u001b[38;5;241m5\u001b[39m])\n",
      "\u001b[1;31mIndexError\u001b[0m: list index out of range"
     ]
    }
   ],
   "source": [
    "# IndexError : occurs when trying to access an index  that is out of range for list or other sequence\n",
    "a =[1,2,3,4]\n",
    "print(a[5])"
   ]
  },
  {
   "cell_type": "code",
   "execution_count": 33,
   "id": "1f6c1811-a71d-4180-a4b1-cbfffff247e5",
   "metadata": {},
   "outputs": [
    {
     "name": "stdout",
     "output_type": "stream",
     "text": [
      "navya\n"
     ]
    },
    {
     "ename": "KeyError",
     "evalue": "'age'",
     "output_type": "error",
     "traceback": [
      "\u001b[1;31m---------------------------------------------------------------------------\u001b[0m",
      "\u001b[1;31mKeyError\u001b[0m                                  Traceback (most recent call last)",
      "Cell \u001b[1;32mIn[33], line 4\u001b[0m\n\u001b[0;32m      2\u001b[0m a \u001b[38;5;241m=\u001b[39m {\u001b[38;5;124m'\u001b[39m\u001b[38;5;124mname\u001b[39m\u001b[38;5;124m'\u001b[39m: \u001b[38;5;124m'\u001b[39m\u001b[38;5;124mnavya\u001b[39m\u001b[38;5;124m'\u001b[39m}\n\u001b[0;32m      3\u001b[0m \u001b[38;5;28mprint\u001b[39m(a[\u001b[38;5;124m'\u001b[39m\u001b[38;5;124mname\u001b[39m\u001b[38;5;124m'\u001b[39m])\n\u001b[1;32m----> 4\u001b[0m \u001b[38;5;28mprint\u001b[39m(a[\u001b[38;5;124m'\u001b[39m\u001b[38;5;124mage\u001b[39m\u001b[38;5;124m'\u001b[39m])\n",
      "\u001b[1;31mKeyError\u001b[0m: 'age'"
     ]
    }
   ],
   "source": [
    "# KeyError : happend when trying to access a dictionary key that doesn't exist.  \n",
    "a = {'name': 'navya'}\n",
    "print(a['name'])\n",
    "print(a['age'])"
   ]
  },
  {
   "cell_type": "code",
   "execution_count": 49,
   "id": "7c4f5704-0cf8-4034-969d-5a1edc8a7b49",
   "metadata": {},
   "outputs": [
    {
     "ename": "FileNotFoundError",
     "evalue": "[Errno 2] No such file or directory: 'no_file.txt'",
     "output_type": "error",
     "traceback": [
      "\u001b[1;31m---------------------------------------------------------------------------\u001b[0m",
      "\u001b[1;31mFileNotFoundError\u001b[0m                         Traceback (most recent call last)",
      "Cell \u001b[1;32mIn[49], line 3\u001b[0m\n\u001b[0;32m      1\u001b[0m \u001b[38;5;66;03m# FileNotFoundError:\u001b[39;00m\n\u001b[1;32m----> 3\u001b[0m \u001b[38;5;28;01mwith\u001b[39;00m \u001b[38;5;28mopen\u001b[39m (\u001b[38;5;124m'\u001b[39m\u001b[38;5;124mno_file.txt\u001b[39m\u001b[38;5;124m'\u001b[39m,\u001b[38;5;124m'\u001b[39m\u001b[38;5;124mr\u001b[39m\u001b[38;5;124m'\u001b[39m) \u001b[38;5;28;01mas\u001b[39;00m file:\n\u001b[0;32m      4\u001b[0m     content \u001b[38;5;241m=\u001b[39m file\u001b[38;5;241m.\u001b[39mread()\n\u001b[0;32m      5\u001b[0m     \u001b[38;5;28mprint\u001b[39m(content)\n",
      "File \u001b[1;32m~\\anaconda3\\Lib\\site-packages\\IPython\\core\\interactiveshell.py:324\u001b[0m, in \u001b[0;36m_modified_open\u001b[1;34m(file, *args, **kwargs)\u001b[0m\n\u001b[0;32m    317\u001b[0m \u001b[38;5;28;01mif\u001b[39;00m file \u001b[38;5;129;01min\u001b[39;00m {\u001b[38;5;241m0\u001b[39m, \u001b[38;5;241m1\u001b[39m, \u001b[38;5;241m2\u001b[39m}:\n\u001b[0;32m    318\u001b[0m     \u001b[38;5;28;01mraise\u001b[39;00m \u001b[38;5;167;01mValueError\u001b[39;00m(\n\u001b[0;32m    319\u001b[0m         \u001b[38;5;124mf\u001b[39m\u001b[38;5;124m\"\u001b[39m\u001b[38;5;124mIPython won\u001b[39m\u001b[38;5;124m'\u001b[39m\u001b[38;5;124mt let you open fd=\u001b[39m\u001b[38;5;132;01m{\u001b[39;00mfile\u001b[38;5;132;01m}\u001b[39;00m\u001b[38;5;124m by default \u001b[39m\u001b[38;5;124m\"\u001b[39m\n\u001b[0;32m    320\u001b[0m         \u001b[38;5;124m\"\u001b[39m\u001b[38;5;124mas it is likely to crash IPython. If you know what you are doing, \u001b[39m\u001b[38;5;124m\"\u001b[39m\n\u001b[0;32m    321\u001b[0m         \u001b[38;5;124m\"\u001b[39m\u001b[38;5;124myou can use builtins\u001b[39m\u001b[38;5;124m'\u001b[39m\u001b[38;5;124m open.\u001b[39m\u001b[38;5;124m\"\u001b[39m\n\u001b[0;32m    322\u001b[0m     )\n\u001b[1;32m--> 324\u001b[0m \u001b[38;5;28;01mreturn\u001b[39;00m io_open(file, \u001b[38;5;241m*\u001b[39margs, \u001b[38;5;241m*\u001b[39m\u001b[38;5;241m*\u001b[39mkwargs)\n",
      "\u001b[1;31mFileNotFoundError\u001b[0m: [Errno 2] No such file or directory: 'no_file.txt'"
     ]
    }
   ],
   "source": [
    "# FileNotFoundError: raised when trying to open or manipulate a file that doesn't exist.\n",
    "\n",
    "with open ('no_file.txt','r') as file:\n",
    "    content = file.read()\n",
    "    print(content)"
   ]
  },
  {
   "cell_type": "code",
   "execution_count": 50,
   "id": "14a6ac33-18b3-4049-852f-b4d6f912659c",
   "metadata": {},
   "outputs": [
    {
     "name": "stdout",
     "output_type": "stream",
     "text": [
      "Python is popular languagepython is simple language python is simple language.\n",
      "python is simple language.\n",
      "python is simple \n"
     ]
    }
   ],
   "source": [
    "with open ('file.txt','r') as file:\n",
    "    content = file.read()\n",
    "    print(content)"
   ]
  },
  {
   "cell_type": "code",
   "execution_count": 51,
   "id": "09057d88-f51d-4f70-9102-70ca39686600",
   "metadata": {},
   "outputs": [
    {
     "ename": "ZeroDivisionError",
     "evalue": "division by zero",
     "output_type": "error",
     "traceback": [
      "\u001b[1;31m---------------------------------------------------------------------------\u001b[0m",
      "\u001b[1;31mZeroDivisionError\u001b[0m                         Traceback (most recent call last)",
      "Cell \u001b[1;32mIn[51], line 2\u001b[0m\n\u001b[0;32m      1\u001b[0m \u001b[38;5;66;03m# ZeroDivisionError : occurs when trying to divide by zero\u001b[39;00m\n\u001b[1;32m----> 2\u001b[0m a \u001b[38;5;241m=\u001b[39m \u001b[38;5;241m5\u001b[39m\u001b[38;5;241m/\u001b[39m\u001b[38;5;241m0\u001b[39m\n",
      "\u001b[1;31mZeroDivisionError\u001b[0m: division by zero"
     ]
    }
   ],
   "source": [
    "# ZeroDivisionError : occurs when trying to divide by zero\n",
    "a = 5/0"
   ]
  },
  {
   "cell_type": "code",
   "execution_count": 2,
   "id": "a1c51565-cd1d-430b-9af7-5bf99d8f73c6",
   "metadata": {},
   "outputs": [
    {
     "ename": "AssertionError",
     "evalue": "2+2 is not equal to 5",
     "output_type": "error",
     "traceback": [
      "\u001b[1;31m---------------------------------------------------------------------------\u001b[0m",
      "\u001b[1;31mAssertionError\u001b[0m                            Traceback (most recent call last)",
      "Cell \u001b[1;32mIn[2], line 2\u001b[0m\n\u001b[0;32m      1\u001b[0m \u001b[38;5;66;03m#AssertionError : Raises when a 'assert' statement fails\u001b[39;00m\n\u001b[1;32m----> 2\u001b[0m \u001b[38;5;28;01massert\u001b[39;00m \u001b[38;5;241m2\u001b[39m\u001b[38;5;241m+\u001b[39m\u001b[38;5;241m2\u001b[39m \u001b[38;5;241m==\u001b[39m \u001b[38;5;241m5\u001b[39m, \u001b[38;5;124m'\u001b[39m\u001b[38;5;124m2+2 is not equal to 5\u001b[39m\u001b[38;5;124m'\u001b[39m\n",
      "\u001b[1;31mAssertionError\u001b[0m: 2+2 is not equal to 5"
     ]
    }
   ],
   "source": [
    " #AssertionError : Raises when a 'assert' statement fails\n",
    "assert 2+2 == 5, '2+2 is not equal to 5'"
   ]
  },
  {
   "cell_type": "markdown",
   "id": "ca605c52-54f5-461a-b2b2-1e5a2339876a",
   "metadata": {},
   "source": [
    "# Exceptions List in Python"
   ]
  },
  {
   "cell_type": "code",
   "execution_count": null,
   "id": "60d3d5d4-354b-475d-9560-662ed7dff6bf",
   "metadata": {},
   "outputs": [],
   "source": [
    "Exception\n",
    "\n",
    "StopIteration\n",
    "\n",
    "SystemExit\n",
    "\n",
    "StandardError\n",
    "\n",
    "ArithematicError\n",
    "\n",
    "OverflowError\n",
    "\n",
    "FloatingPointError\n",
    "\n",
    "AttributeError\n",
    "\n",
    "EOFError\n",
    "\n",
    "ImportError\n",
    "\n",
    "KeyboardInterrupt\n",
    "\n",
    "LookupError\n",
    "\n",
    "UnboundLocalError\n",
    "\n",
    "EnvironmentError\n",
    "\n",
    "IOError\n"
   ]
  },
  {
   "cell_type": "code",
   "execution_count": null,
   "id": "a828f77f-5579-4885-aaa5-e0b5503fcd50",
   "metadata": {},
   "outputs": [],
   "source": []
  }
 ],
 "metadata": {
  "kernelspec": {
   "display_name": "Python 3 (ipykernel)",
   "language": "python",
   "name": "python3"
  },
  "language_info": {
   "codemirror_mode": {
    "name": "ipython",
    "version": 3
   },
   "file_extension": ".py",
   "mimetype": "text/x-python",
   "name": "python",
   "nbconvert_exporter": "python",
   "pygments_lexer": "ipython3",
   "version": "3.12.4"
  }
 },
 "nbformat": 4,
 "nbformat_minor": 5
}
